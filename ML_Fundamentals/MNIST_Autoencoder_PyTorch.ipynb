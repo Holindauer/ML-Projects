{
 "cells": [
  {
   "cell_type": "markdown",
   "metadata": {},
   "source": [
    "# Familiarizing Myself with PyTorch"
   ]
  },
  {
   "cell_type": "markdown",
   "metadata": {},
   "source": [
    "The point of this notebook is to familiarize myself with pytorch for future project. In this notebook is an implementation of an autoencoder using torch."
   ]
  },
  {
   "cell_type": "code",
   "execution_count": 6,
   "metadata": {},
   "outputs": [],
   "source": [
    "import torch\n",
    "from torch import nn\n",
    "import torchvision.datasets as dsets\n",
    "import torchvision.transforms as transforms\n",
    "import matplotlib.pyplot as plt\n",
    "import numpy as np"
   ]
  },
  {
   "cell_type": "markdown",
   "metadata": {},
   "source": [
    "The below cell loads in the mnist dataset form torchvision.datasets.mnist, it specifies that we want to get the training set, down load it, and transofrm it from a PIL image into a tensor. \n",
    "\n",
    "Pytorch uses the below DataLoader function to load data into batches. This is similar to how image_data_generator works in tensorflow. "
   ]
  },
  {
   "cell_type": "code",
   "execution_count": 2,
   "metadata": {},
   "outputs": [
    {
     "name": "stdout",
     "output_type": "stream",
     "text": [
      "Downloading http://yann.lecun.com/exdb/mnist/train-images-idx3-ubyte.gz\n",
      "Downloading http://yann.lecun.com/exdb/mnist/train-images-idx3-ubyte.gz to .\\MNIST\\raw\\train-images-idx3-ubyte.gz\n"
     ]
    },
    {
     "name": "stderr",
     "output_type": "stream",
     "text": [
      "100%|██████████| 9912422/9912422 [00:04<00:00, 2133675.10it/s]\n"
     ]
    },
    {
     "name": "stdout",
     "output_type": "stream",
     "text": [
      "Extracting .\\MNIST\\raw\\train-images-idx3-ubyte.gz to .\\MNIST\\raw\n",
      "\n",
      "Downloading http://yann.lecun.com/exdb/mnist/train-labels-idx1-ubyte.gz\n",
      "Downloading http://yann.lecun.com/exdb/mnist/train-labels-idx1-ubyte.gz to .\\MNIST\\raw\\train-labels-idx1-ubyte.gz\n"
     ]
    },
    {
     "name": "stderr",
     "output_type": "stream",
     "text": [
      "100%|██████████| 28881/28881 [00:00<00:00, 14441546.71it/s]\n"
     ]
    },
    {
     "name": "stdout",
     "output_type": "stream",
     "text": [
      "Extracting .\\MNIST\\raw\\train-labels-idx1-ubyte.gz to .\\MNIST\\raw\n",
      "\n",
      "Downloading http://yann.lecun.com/exdb/mnist/t10k-images-idx3-ubyte.gz\n",
      "Downloading http://yann.lecun.com/exdb/mnist/t10k-images-idx3-ubyte.gz to .\\MNIST\\raw\\t10k-images-idx3-ubyte.gz\n"
     ]
    },
    {
     "name": "stderr",
     "output_type": "stream",
     "text": [
      "100%|██████████| 1648877/1648877 [00:00<00:00, 1652462.99it/s]\n"
     ]
    },
    {
     "name": "stdout",
     "output_type": "stream",
     "text": [
      "Extracting .\\MNIST\\raw\\t10k-images-idx3-ubyte.gz to .\\MNIST\\raw\n",
      "\n",
      "Downloading http://yann.lecun.com/exdb/mnist/t10k-labels-idx1-ubyte.gz\n",
      "Downloading http://yann.lecun.com/exdb/mnist/t10k-labels-idx1-ubyte.gz to .\\MNIST\\raw\\t10k-labels-idx1-ubyte.gz\n"
     ]
    },
    {
     "name": "stderr",
     "output_type": "stream",
     "text": [
      "100%|██████████| 4542/4542 [00:00<00:00, 1518938.67it/s]"
     ]
    },
    {
     "name": "stdout",
     "output_type": "stream",
     "text": [
      "Extracting .\\MNIST\\raw\\t10k-labels-idx1-ubyte.gz to .\\MNIST\\raw\n",
      "\n"
     ]
    },
    {
     "name": "stderr",
     "output_type": "stream",
     "text": [
      "\n"
     ]
    }
   ],
   "source": [
    "# MNIST Dataset (Images and Labels)\n",
    "train_dataset = dsets.MNIST(root='.', \n",
    "                            train=True, \n",
    "                            transform=transforms.ToTensor(),\n",
    "                            download=True)\n",
    "\n",
    "#Data Loader\n",
    "train_loader = torch.utils.data.DataLoader(dataset=train_dataset, \n",
    "                                           batch_size=128, \n",
    "                                           shuffle=True)"
   ]
  },
  {
   "cell_type": "markdown",
   "metadata": {},
   "source": [
    "In PyTorch, the nn module takes fills a similar role to keras in tensorflow. Below, we define a class Autoencoder that, when instantiated, defines the model architectures of the encoder and the decoder. The forward() method defined below the __init__ statement determines the forward pass of the model into the encoder and then into the decoder. This object oriented approach to defining the forward pass is one of the key differences in the usability of PyTorch vs Tensorflow."
   ]
  },
  {
   "cell_type": "code",
   "execution_count": 3,
   "metadata": {},
   "outputs": [],
   "source": [
    "class Autoencoder(nn.Module):\n",
    "    def __init__(self):\n",
    "        super(Autoencoder, self).__init__()\n",
    "        self.encoder = nn.Sequential(\n",
    "            nn.Linear(28 * 28, 128),\n",
    "            nn.ReLU(True),\n",
    "            nn.Linear(128, 64),\n",
    "            nn.ReLU(True))\n",
    "        self.decoder = nn.Sequential(\n",
    "            nn.Linear(64, 128),\n",
    "            nn.ReLU(True),\n",
    "            nn.Linear(128, 28 * 28), \n",
    "            nn.Tanh())\n",
    "\n",
    "    def forward(self, x):\n",
    "        x = self.encoder(x)\n",
    "        x = self.decoder(x)\n",
    "        return x\n",
    "\n",
    "model = Autoencoder()"
   ]
  },
  {
   "cell_type": "markdown",
   "metadata": {},
   "source": [
    "Here, we define the loss and optimizer using the nn module. They are defined to be MSE and Adam"
   ]
  },
  {
   "cell_type": "code",
   "execution_count": 4,
   "metadata": {},
   "outputs": [],
   "source": [
    "# Loss function and Optimizer\n",
    "criterion = nn.MSELoss()\n",
    "optimizer = torch.optim.Adam(model.parameters(), lr=0.001)"
   ]
  },
  {
   "cell_type": "markdown",
   "metadata": {},
   "source": [
    "Pytorch also gives you more control than tensorflow over how the model is trained. In keras, the fit function is used to train the model, but in PyTorch you define the training loop in a python for loop. \n",
    "\n",
    "Within a single epoch, the images generated from the train loader are reshaped into the correct shape for a linear model. Then the gradients are set to zero, a forward pass is made, the loss is calculated, the gradients are calculated in backprop, and the optimizer updates the weights."
   ]
  },
  {
   "cell_type": "code",
   "execution_count": 7,
   "metadata": {},
   "outputs": [
    {
     "name": "stdout",
     "output_type": "stream",
     "text": [
      "Epoch 0, Loss: 0.0210\n",
      "Epoch 1, Loss: 0.0174\n",
      "Epoch 2, Loss: 0.0163\n",
      "Epoch 3, Loss: 0.0161\n",
      "Epoch 4, Loss: 0.0155\n",
      "Epoch 5, Loss: 0.0157\n",
      "Epoch 6, Loss: 0.0141\n",
      "Epoch 7, Loss: 0.0152\n",
      "Epoch 8, Loss: 0.0149\n",
      "Epoch 9, Loss: 0.0154\n",
      "Epoch 10, Loss: 0.0150\n",
      "Epoch 11, Loss: 0.0150\n",
      "Early stopping at epoch: 11 \n",
      "Final Loss was 0.0150\n",
      "Training completed\n"
     ]
    }
   ],
   "source": [
    "# Training the Model\n",
    "epochs = 1000\n",
    "\n",
    "#early stopping\n",
    "patience, counter, min_loss = 5, 0, np.Inf\n",
    "\n",
    "for epoch in range(epochs):\n",
    "    for i, (images, _) in enumerate(train_loader): #load a batch of digits from the train_loader\n",
    "        images = images.view(images.size(0), -1)  # Reshape input to (batch_size, 784) tensor for linear layers\n",
    "\n",
    "        # Forward + Backward + Optimize'\n",
    "        optimizer.zero_grad() #reset gradients to zero\n",
    "        outputs = model(images) #forward pass of the model\n",
    "        loss = criterion(outputs, images) #calculate the loss\n",
    "        loss.backward() #backpropagate the loss\n",
    "        optimizer.step() #update the weights\n",
    "\n",
    "    # log\n",
    "    print(f'Epoch {epoch}, Loss: {loss.item():.4f}')\n",
    "\n",
    "    #early stopping\n",
    "    if loss.item() < min_loss:\n",
    "        min_loss = loss.item()\n",
    "        counter = 0\n",
    "    else:\n",
    "        counter += 1\n",
    "        if counter >= patience:\n",
    "            print(f'Early stopping at epoch: {epoch} \\nFinal Loss was {loss.item():.4f}')\n",
    "            break\n",
    "\n",
    "print('Training completed')"
   ]
  },
  {
   "cell_type": "markdown",
   "metadata": {},
   "source": [
    "Below is a plot from the AE output against the input."
   ]
  },
  {
   "cell_type": "code",
   "execution_count": 8,
   "metadata": {},
   "outputs": [
    {
     "data": {
      "image/png": "[encoded data removed]",
      "text/plain": [
       "<Figure size 640x480 with 2 Axes>"
      ]
     },
     "metadata": {},
     "output_type": "display_data"
    }
   ],
   "source": [
    "iterator = iter(train_loader)\n",
    "images, labels = next(iterator) # get one batch of images and labels\n",
    "image = images[0].view(-1) # flatten the first image and remove the batch dimension\n",
    "decoded = model(image) # pass the reshaped image through the model\n",
    "\n",
    "# Assuming that images[0] is of shape [1, 28, 28]\n",
    "original_image = images[0].squeeze(0) # remove the batch dimension\n",
    "\n",
    "# Visualize the original and reconstructed image\n",
    "fig, axes = plt.subplots(nrows=1, ncols=2)\n",
    "axes[0].imshow(original_image, cmap='gray')\n",
    "axes[0].set_title('Original Image')\n",
    "axes[1].imshow(decoded.detach().numpy().reshape(28, 28), cmap='gray')\n",
    "axes[1].set_title('Reconstructed Image')\n",
    "plt.show()\n"
   ]
  }
 ],
 "metadata": {
  "kernelspec": {
   "display_name": "Python 3 (ipykernel)",
   "language": "python",
   "name": "python3"
  },
  "language_info": {
   "codemirror_mode": {
    "name": "ipython",
    "version": 3
   },
   "file_extension": ".py",
   "mimetype": "text/x-python",
   "name": "python",
   "nbconvert_exporter": "python",
   "pygments_lexer": "ipython3",
   "version": "3.11.4"
  }
 },
 "nbformat": 4,
 "nbformat_minor": 2
}
