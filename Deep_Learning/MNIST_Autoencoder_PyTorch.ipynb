{
 "cells": [
  {
   "cell_type": "markdown",
   "metadata": {},
   "source": [
    "# Familiarizing Myself with PyTorch"
   ]
  },
  {
   "cell_type": "markdown",
   "metadata": {},
   "source": [
    "The point of this notebook is to familiarize myself with pytorch for future project. In this notebook is an implementation of an autoencoder using torch."
   ]
  },
  {
   "cell_type": "code",
   "execution_count": 9,
   "metadata": {},
   "outputs": [],
   "source": [
    "import torch\n",
    "from torch import nn\n",
    "import torchvision.datasets as dsets\n",
    "import torchvision.transforms as transforms\n",
    "import matplotlib.pyplot as plt"
   ]
  },
  {
   "cell_type": "markdown",
   "metadata": {},
   "source": [
    "The below cell loads in the mnist dataset form torchvision.datasets.mnist, it specifies that we want to get the training set, down load it, and transofrm it from a PIL image into a tensor. \n",
    "\n",
    "Pytorch uses the below DataLoader function to load data into batches. This is similar to how image_data_generator works in tensorflow. "
   ]
  },
  {
   "cell_type": "code",
   "execution_count": 3,
   "metadata": {},
   "outputs": [
    {
     "name": "stdout",
     "output_type": "stream",
     "text": [
      "Downloading http://yann.lecun.com/exdb/mnist/train-images-idx3-ubyte.gz\n",
      "Downloading http://yann.lecun.com/exdb/mnist/train-images-idx3-ubyte.gz to .\\MNIST\\raw\\train-images-idx3-ubyte.gz\n"
     ]
    },
    {
     "name": "stderr",
     "output_type": "stream",
     "text": [
      "100.0%\n"
     ]
    },
    {
     "name": "stdout",
     "output_type": "stream",
     "text": [
      "Extracting .\\MNIST\\raw\\train-images-idx3-ubyte.gz to .\\MNIST\\raw\n",
      "\n",
      "Downloading http://yann.lecun.com/exdb/mnist/train-labels-idx1-ubyte.gz\n",
      "Downloading http://yann.lecun.com/exdb/mnist/train-labels-idx1-ubyte.gz to .\\MNIST\\raw\\train-labels-idx1-ubyte.gz\n"
     ]
    },
    {
     "name": "stderr",
     "output_type": "stream",
     "text": [
      "100.0%\n"
     ]
    },
    {
     "name": "stdout",
     "output_type": "stream",
     "text": [
      "Extracting .\\MNIST\\raw\\train-labels-idx1-ubyte.gz to .\\MNIST\\raw\n",
      "\n",
      "Downloading http://yann.lecun.com/exdb/mnist/t10k-images-idx3-ubyte.gz\n",
      "Downloading http://yann.lecun.com/exdb/mnist/t10k-images-idx3-ubyte.gz to .\\MNIST\\raw\\t10k-images-idx3-ubyte.gz\n"
     ]
    },
    {
     "name": "stderr",
     "output_type": "stream",
     "text": [
      "100.0%\n"
     ]
    },
    {
     "name": "stdout",
     "output_type": "stream",
     "text": [
      "Extracting .\\MNIST\\raw\\t10k-images-idx3-ubyte.gz to .\\MNIST\\raw\n",
      "\n",
      "Downloading http://yann.lecun.com/exdb/mnist/t10k-labels-idx1-ubyte.gz\n"
     ]
    },
    {
     "name": "stderr",
     "output_type": "stream",
     "text": [
      "100.0%"
     ]
    },
    {
     "name": "stdout",
     "output_type": "stream",
     "text": [
      "Downloading http://yann.lecun.com/exdb/mnist/t10k-labels-idx1-ubyte.gz to .\\MNIST\\raw\\t10k-labels-idx1-ubyte.gz\n",
      "Extracting .\\MNIST\\raw\\t10k-labels-idx1-ubyte.gz to .\\MNIST\\raw\n",
      "\n"
     ]
    },
    {
     "name": "stderr",
     "output_type": "stream",
     "text": [
      "\n"
     ]
    }
   ],
   "source": [
    "# MNIST Dataset (Images and Labels)\n",
    "train_dataset = dsets.MNIST(root='.', \n",
    "                            train=True, \n",
    "                            transform=transforms.ToTensor(),\n",
    "                            download=True)\n",
    "\n",
    "#Data Loader\n",
    "train_loader = torch.utils.data.DataLoader(dataset=train_dataset, \n",
    "                                           batch_size=128, \n",
    "                                           shuffle=True)"
   ]
  },
  {
   "cell_type": "markdown",
   "metadata": {},
   "source": [
    "In PyTorch, the nn module takes fills a similar role to keras in tensorflow. Below, we define a class Autoencoder that, when instantiated, defines the model architectures of the encoder and the decoder. The forward() method defined below the __init__ statement determines the forward pass of the model into the encoder and then into the decoder. This object oriented approach to defining the forward pass is one of the key differences in the usability of PyTorch vs Tensorflow."
   ]
  },
  {
   "cell_type": "code",
   "execution_count": 4,
   "metadata": {},
   "outputs": [],
   "source": [
    "class Autoencoder(nn.Module):\n",
    "    def __init__(self):\n",
    "        super(Autoencoder, self).__init__()\n",
    "        self.encoder = nn.Sequential(\n",
    "            nn.Linear(28 * 28, 128),\n",
    "            nn.ReLU(True),\n",
    "            nn.Linear(128, 64),\n",
    "            nn.ReLU(True))\n",
    "        self.decoder = nn.Sequential(\n",
    "            nn.Linear(64, 128),\n",
    "            nn.ReLU(True),\n",
    "            nn.Linear(128, 28 * 28), \n",
    "            nn.Tanh())\n",
    "\n",
    "    def forward(self, x):\n",
    "        x = self.encoder(x)\n",
    "        x = self.decoder(x)\n",
    "        return x\n",
    "\n",
    "model = Autoencoder()"
   ]
  },
  {
   "cell_type": "markdown",
   "metadata": {},
   "source": [
    "Here, we define the loss and optimizer using the nn module. They are defined to be MSE and Adam"
   ]
  },
  {
   "cell_type": "code",
   "execution_count": 6,
   "metadata": {},
   "outputs": [],
   "source": [
    "# Loss function and Optimizer\n",
    "criterion = nn.MSELoss()\n",
    "optimizer = torch.optim.Adam(model.parameters(), lr=0.001)"
   ]
  },
  {
   "cell_type": "markdown",
   "metadata": {},
   "source": [
    "Pytorch also gives you more control than tensorflow over how the model is trained. In keras, the fit function is used to train the model, but in PyTorch you define the training loop in a python for loop. \n",
    "\n",
    "Within a single epoch, the images generated from the train loader are reshaped into the correct shape for a linear model. Then the gradients are set to zero, a forward pass is made, the loss is calculated, the gradients are calculated in backprop, and the optimizer updates the weights."
   ]
  },
  {
   "cell_type": "code",
   "execution_count": 8,
   "metadata": {},
   "outputs": [
    {
     "name": "stdout",
     "output_type": "stream",
     "text": [
      "Epoch [1/100], Loss: 0.0238\n",
      "Epoch [2/100], Loss: 0.0180\n",
      "Epoch [3/100], Loss: 0.0187\n",
      "Epoch [4/100], Loss: 0.0194\n",
      "Epoch [5/100], Loss: 0.0183\n",
      "Epoch [6/100], Loss: 0.0192\n",
      "Epoch [7/100], Loss: 0.0173\n",
      "Epoch [8/100], Loss: 0.0176\n",
      "Epoch [9/100], Loss: 0.0170\n",
      "Epoch [10/100], Loss: 0.0169\n",
      "Epoch [11/100], Loss: 0.0161\n",
      "Epoch [12/100], Loss: 0.0155\n",
      "Epoch [13/100], Loss: 0.0160\n",
      "Epoch [14/100], Loss: 0.0155\n",
      "Epoch [15/100], Loss: 0.0149\n",
      "Epoch [16/100], Loss: 0.0137\n",
      "Epoch [17/100], Loss: 0.0143\n",
      "Epoch [18/100], Loss: 0.0153\n",
      "Epoch [19/100], Loss: 0.0144\n",
      "Epoch [20/100], Loss: 0.0151\n",
      "Epoch [21/100], Loss: 0.0142\n",
      "Epoch [22/100], Loss: 0.0129\n",
      "Epoch [23/100], Loss: 0.0146\n",
      "Epoch [24/100], Loss: 0.0145\n",
      "Epoch [25/100], Loss: 0.0139\n",
      "Epoch [26/100], Loss: 0.0131\n",
      "Epoch [27/100], Loss: 0.0131\n",
      "Epoch [28/100], Loss: 0.0141\n",
      "Epoch [29/100], Loss: 0.0135\n",
      "Epoch [30/100], Loss: 0.0140\n",
      "Epoch [31/100], Loss: 0.0139\n",
      "Epoch [32/100], Loss: 0.0134\n",
      "Epoch [33/100], Loss: 0.0124\n",
      "Epoch [34/100], Loss: 0.0125\n",
      "Epoch [35/100], Loss: 0.0137\n",
      "Epoch [36/100], Loss: 0.0131\n",
      "Epoch [37/100], Loss: 0.0127\n",
      "Epoch [38/100], Loss: 0.0125\n",
      "Epoch [39/100], Loss: 0.0126\n",
      "Epoch [40/100], Loss: 0.0128\n",
      "Epoch [41/100], Loss: 0.0132\n",
      "Epoch [42/100], Loss: 0.0126\n",
      "Epoch [43/100], Loss: 0.0123\n",
      "Epoch [44/100], Loss: 0.0109\n",
      "Epoch [45/100], Loss: 0.0114\n",
      "Epoch [46/100], Loss: 0.0122\n",
      "Epoch [47/100], Loss: 0.0118\n",
      "Epoch [48/100], Loss: 0.0130\n",
      "Epoch [49/100], Loss: 0.0137\n",
      "Epoch [50/100], Loss: 0.0128\n",
      "Epoch [51/100], Loss: 0.0118\n",
      "Epoch [52/100], Loss: 0.0132\n",
      "Epoch [53/100], Loss: 0.0113\n",
      "Epoch [54/100], Loss: 0.0121\n",
      "Epoch [55/100], Loss: 0.0116\n",
      "Epoch [56/100], Loss: 0.0115\n",
      "Epoch [57/100], Loss: 0.0106\n",
      "Epoch [58/100], Loss: 0.0117\n",
      "Epoch [59/100], Loss: 0.0111\n",
      "Epoch [60/100], Loss: 0.0119\n",
      "Epoch [61/100], Loss: 0.0117\n",
      "Epoch [62/100], Loss: 0.0122\n",
      "Epoch [63/100], Loss: 0.0113\n",
      "Epoch [64/100], Loss: 0.0114\n",
      "Epoch [65/100], Loss: 0.0120\n",
      "Epoch [66/100], Loss: 0.0116\n",
      "Epoch [67/100], Loss: 0.0114\n",
      "Epoch [68/100], Loss: 0.0114\n",
      "Epoch [69/100], Loss: 0.0119\n",
      "Epoch [70/100], Loss: 0.0109\n",
      "Epoch [71/100], Loss: 0.0114\n",
      "Epoch [72/100], Loss: 0.0112\n",
      "Epoch [73/100], Loss: 0.0114\n",
      "Epoch [74/100], Loss: 0.0120\n",
      "Epoch [75/100], Loss: 0.0117\n",
      "Epoch [76/100], Loss: 0.0113\n",
      "Epoch [77/100], Loss: 0.0106\n",
      "Epoch [78/100], Loss: 0.0108\n",
      "Epoch [79/100], Loss: 0.0118\n",
      "Epoch [80/100], Loss: 0.0118\n",
      "Epoch [81/100], Loss: 0.0121\n",
      "Epoch [82/100], Loss: 0.0107\n",
      "Epoch [83/100], Loss: 0.0117\n",
      "Epoch [84/100], Loss: 0.0116\n",
      "Epoch [85/100], Loss: 0.0118\n",
      "Epoch [86/100], Loss: 0.0116\n",
      "Epoch [87/100], Loss: 0.0110\n",
      "Epoch [88/100], Loss: 0.0110\n",
      "Epoch [89/100], Loss: 0.0109\n",
      "Epoch [90/100], Loss: 0.0109\n",
      "Epoch [91/100], Loss: 0.0117\n",
      "Epoch [92/100], Loss: 0.0105\n",
      "Epoch [93/100], Loss: 0.0115\n",
      "Epoch [94/100], Loss: 0.0112\n",
      "Epoch [95/100], Loss: 0.0114\n",
      "Epoch [96/100], Loss: 0.0117\n",
      "Epoch [97/100], Loss: 0.0123\n",
      "Epoch [98/100], Loss: 0.0115\n",
      "Epoch [99/100], Loss: 0.0111\n",
      "Epoch [100/100], Loss: 0.0109\n",
      "Training completed\n"
     ]
    }
   ],
   "source": [
    "# Training the Model\n",
    "epochs = 100\n",
    "\n",
    "for epoch in range(epochs):\n",
    "    for i, (images, _) in enumerate(train_loader): #load a batch of digits from the train_loader\n",
    "        images = images.view(images.size(0), -1)  # Reshape input to (batch_size, 784) tensor for linear layers\n",
    "\n",
    "        # Forward + Backward + Optimize'\n",
    "        optimizer.zero_grad() #reset gradients to zero\n",
    "        outputs = model(images) #forward pass of the model\n",
    "        loss = criterion(outputs, images) #calculate the loss\n",
    "        loss.backward() #backpropagate the loss\n",
    "        optimizer.step() #update the weights\n",
    "\n",
    "    # log\n",
    "    print(f'Epoch [{epoch+1}/{100}], Loss: {loss.item():.4f}')\n",
    "\n",
    "print('Training completed')"
   ]
  },
  {
   "cell_type": "markdown",
   "metadata": {},
   "source": [
    "Below is a plot from the AE output against the input."
   ]
  },
  {
   "cell_type": "code",
   "execution_count": 12,
   "metadata": {},
   "outputs": [
    {
     "data": {
      "image/png": "[encoded data removed]",
      "text/plain": [
       "<Figure size 640x480 with 2 Axes>"
      ]
     },
     "metadata": {},
     "output_type": "display_data"
    }
   ],
   "source": [
    "iterator = iter(train_loader)\n",
    "images, labels = next(iterator) # get one batch of images and labels\n",
    "image = images[0].view(-1) # flatten the first image and remove the batch dimension\n",
    "decoded = model(image) # pass the reshaped image through the model\n",
    "\n",
    "# Assuming that images[0] is of shape [1, 28, 28]\n",
    "original_image = images[0].squeeze(0) # remove the batch dimension\n",
    "\n",
    "# Visualize the original and reconstructed image\n",
    "fig, axes = plt.subplots(nrows=1, ncols=2)\n",
    "axes[0].imshow(original_image, cmap='gray')\n",
    "axes[0].set_title('Original Image')\n",
    "axes[1].imshow(decoded.detach().numpy().reshape(28, 28), cmap='gray')\n",
    "axes[1].set_title('Reconstructed Image')\n",
    "plt.show()\n"
   ]
  }
 ],
 "metadata": {
  "kernelspec": {
   "display_name": "Python 3 (ipykernel)",
   "language": "python",
   "name": "python3"
  },
  "language_info": {
   "codemirror_mode": {
    "name": "ipython",
    "version": 3
   },
   "file_extension": ".py",
   "mimetype": "text/x-python",
   "name": "python",
   "nbconvert_exporter": "python",
   "pygments_lexer": "ipython3",
   "version": "3.11.1"
  }
 },
 "nbformat": 4,
 "nbformat_minor": 2
}
