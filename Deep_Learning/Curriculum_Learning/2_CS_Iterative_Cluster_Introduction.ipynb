{
 "cells": [
  {
   "cell_type": "markdown",
   "metadata": {},
   "source": [
    "# Complexity Scheduling -- Iterative Cluster Introdution"
   ]
  },
  {
   "cell_type": "markdown",
   "metadata": {},
   "source": [
    "This project contains an implementation of complexity scheduling for an mnist classifier in the form of iteratively concatenating kmeans clusters of a dataset to the the training set from a starting point of one cluster. \n",
    "\n",
    "The order of this notebook is as follows\n",
    "\n",
    "1.) use kmeans to cluster data, store these clusters for later use\n",
    "\n",
    "2.) run an iterative process to train data on a single cluster, then concatenate a new cluster into the training set and train again. This is repeated until all clusters have been concatenated.\n",
    "\n",
    "mnist clf is a simple example that is easily trainable without this method, this notebook is aimed at developing this method for use in more complex datasets for classification. "
   ]
  },
  {
   "cell_type": "code",
   "execution_count": 53,
   "metadata": {},
   "outputs": [],
   "source": [
    "#import mnist form tf\n",
    "from tensorflow import keras\n",
    "from keras.datasets import mnist\n",
    "from sklearn.cluster import KMeans\n",
    "from keras.models import Sequential\n",
    "from keras.layers import Dense, Flatten\n",
    "from keras.callbacks import EarlyStopping\n",
    "import numpy as np\n",
    "from sklearn.model_selection import train_test_split\n",
    "from keras.optimizers import Adam\n",
    "import matplotlib.pyplot as plt"
   ]
  },
  {
   "cell_type": "markdown",
   "metadata": {},
   "source": [
    "# Separate and Store Clusters"
   ]
  },
  {
   "cell_type": "code",
   "execution_count": 48,
   "metadata": {},
   "outputs": [
    {
     "name": "stdout",
     "output_type": "stream",
     "text": [
      "X_train shape: (60000, 784) \n",
      "X_test shape: (10000, 28, 28) \n",
      "Y_train shape: (60000,)\n",
      "Y_test shape: (10000,)\n"
     ]
    }
   ],
   "source": [
    "(x_train, y_train), (x_test, y_test) = mnist.load_data()\n",
    "x_train, x_test = x_train/255.0, x_test/255.0 #normalize the data\n",
    "x_train = x_train.reshape(len(x_train), -1) #flatten x_train for kmeans\n",
    "\n",
    "print(f'X_train shape: {x_train.shape} \\nX_test shape: {x_test.shape} \\nY_train shape: {y_train.shape}\\nY_test shape: {y_test.shape}')"
   ]
  },
  {
   "cell_type": "markdown",
   "metadata": {},
   "source": [
    "Below we cluster the data into 10 clusters (one for each digit), reshape the flattened examples -> (28, 28), and store in the list 'clusters'."
   ]
  },
  {
   "cell_type": "code",
   "execution_count": 49,
   "metadata": {},
   "outputs": [
    {
     "name": "stderr",
     "output_type": "stream",
     "text": [
      "C:\\Users\\hunte\\AppData\\Local\\Packages\\PythonSoftwareFoundation.Python.3.11_qbz5n2kfra8p0\\LocalCache\\local-packages\\Python311\\site-packages\\sklearn\\cluster\\_kmeans.py:870: FutureWarning: The default value of `n_init` will change from 10 to 'auto' in 1.4. Set the value of `n_init` explicitly to suppress the warning\n",
      "  warnings.warn(\n"
     ]
    },
    {
     "name": "stdout",
     "output_type": "stream",
     "text": [
      "Predicted cluster shape: (60000,)\n",
      "Cluster 0 shape: (5642, 28, 28)\n",
      "Cluster 1 shape: (4669, 28, 28)\n",
      "Cluster 2 shape: (5959, 28, 28)\n",
      "Cluster 3 shape: (6518, 28, 28)\n",
      "Cluster 4 shape: (3096, 28, 28)\n",
      "Cluster 5 shape: (8842, 28, 28)\n",
      "Cluster 6 shape: (7434, 28, 28)\n",
      "Cluster 7 shape: (3202, 28, 28)\n",
      "Cluster 8 shape: (8919, 28, 28)\n",
      "Cluster 9 shape: (5719, 28, 28)\n"
     ]
    }
   ],
   "source": [
    "cluster = {}\n",
    "kmeans = KMeans(n_clusters=10, random_state=42).fit(x_train)\n",
    "pred_cluster = kmeans.predict(x_train) #predict cluster for each data point\n",
    "print(f'Predicted cluster shape: {pred_cluster.shape}')\n",
    "\n",
    "for i in range(10):\n",
    "    cluster[i] = [  x_train[np.where(pred_cluster == i)], y_train[np.where(pred_cluster == i)]  ]#assign [cluster i, associated labels] list to cluster[i]\n",
    "    cluster[i][0] = cluster[i][0].reshape(len(cluster[i][0]), 28, 28) #rehape cluster features back to shape (batch, 28, 28)\n",
    "    print(f'Cluster {i} shape: {cluster[i][0].shape}')"
   ]
  },
  {
   "cell_type": "markdown",
   "metadata": {},
   "source": [
    "An interesting thing to note is that the data has not been clustered solely by label. Each cluster contains examples from every class. When we train our model on these clusters one at a time, the idea is that it will learn specific features of the way people write their digits each way at a time. Therefore, building upon priot knowledge, in a sense."
   ]
  },
  {
   "cell_type": "code",
   "execution_count": 50,
   "metadata": {},
   "outputs": [
    {
     "name": "stdout",
     "output_type": "stream",
     "text": [
      "Cluster 0 unique labels: [0 1 2 3 4 5 6 7 8 9]\n",
      "Cluster 1 unique labels: [0 1 2 3 4 5 6 7 8 9]\n",
      "Cluster 2 unique labels: [0 1 2 3 4 5 6 7 8 9]\n",
      "Cluster 3 unique labels: [0 1 2 3 4 5 6 7 8 9]\n",
      "Cluster 4 unique labels: [0 2 3 4 5 6 7 8 9]\n",
      "Cluster 5 unique labels: [0 1 2 3 4 5 6 7 8 9]\n",
      "Cluster 6 unique labels: [0 1 2 3 4 5 6 7 8 9]\n",
      "Cluster 7 unique labels: [0 2 3 4 5 6 7 8 9]\n",
      "Cluster 8 unique labels: [0 1 2 3 4 5 6 7 8 9]\n",
      "Cluster 9 unique labels: [0 1 2 3 4 5 6 7 8 9]\n"
     ]
    }
   ],
   "source": [
    "#print unique values each clutser's labels\n",
    "for i in range(10):\n",
    "    print(f'Cluster {i} unique labels: {np.unique(cluster[i][1])}')"
   ]
  },
  {
   "cell_type": "markdown",
   "metadata": {},
   "source": [
    "We will define a simple feed forward net for our mnist clf."
   ]
  },
  {
   "cell_type": "code",
   "execution_count": 57,
   "metadata": {},
   "outputs": [],
   "source": [
    "#buld simple mnist clf\n",
    "model = Sequential([\n",
    "    Flatten(input_shape=(28, 28)),\n",
    "    Dense(128, activation='relu'),\n",
    "    Dense(10, activation='softmax')\n",
    "])\n",
    "\n",
    "model.compile(optimizer='adam', loss='sparse_categorical_crossentropy', metrics=['accuracy'])"
   ]
  },
  {
   "cell_type": "markdown",
   "metadata": {},
   "source": [
    "# Cluster Scheduling"
   ]
  },
  {
   "cell_type": "markdown",
   "metadata": {},
   "source": [
    "Next, we'll construct the mechanism to train the data on the first cluster, then concatenate the next cluster into the training set and train again. \n",
    "\n",
    "Remember, our clusters are stored in the list cluster, each element of cluster is a two element list [cluster_data, cluster_labels]. "
   ]
  },
  {
   "cell_type": "code",
   "execution_count": 58,
   "metadata": {},
   "outputs": [
    {
     "name": "stdout",
     "output_type": "stream",
     "text": [
      "Data Shape for 1 Cluster(s):\n",
      "X_train shape: (4513, 28, 28)\n",
      "y_train shape: (4513,)\n",
      "X_val shape: (1129, 28, 28)\n",
      "y_val shape: (1129,)\n",
      "\n",
      "Score after 1 subsets of training data: 0.9592559933662415\n",
      "\n",
      "Data Shape for 2 Cluster(s):\n",
      "X_train shape: (7345, 28, 28)\n",
      "y_train shape: (7345,)\n",
      "X_val shape: (1837, 28, 28)\n",
      "y_val shape: (1837,)\n",
      "\n",
      "Score after 2 subsets of training data: 0.9847577810287476\n",
      "\n",
      "Data Shape for 3 Cluster(s):\n",
      "X_train shape: (10643, 28, 28)\n",
      "y_train shape: (10643,)\n",
      "X_val shape: (2661, 28, 28)\n",
      "y_val shape: (2661,)\n",
      "\n",
      "Score after 3 subsets of training data: 0.9830890893936157\n",
      "\n",
      "Data Shape for 4 Cluster(s):\n",
      "X_train shape: (13728, 28, 28)\n",
      "y_train shape: (13728,)\n",
      "X_val shape: (3433, 28, 28)\n",
      "y_val shape: (3433,)\n",
      "\n",
      "Score after 4 subsets of training data: 0.9898048639297485\n",
      "\n",
      "Data Shape for 5 Cluster(s):\n",
      "X_train shape: (13459, 28, 28)\n",
      "y_train shape: (13459,)\n",
      "X_val shape: (3365, 28, 28)\n",
      "y_val shape: (3365,)\n",
      "\n",
      "Score after 5 subsets of training data: 0.9946508407592773\n",
      "\n",
      "Data Shape for 6 Cluster(s):\n",
      "X_train shape: (17840, 28, 28)\n",
      "y_train shape: (17840,)\n",
      "X_val shape: (4461, 28, 28)\n",
      "y_val shape: (4461,)\n",
      "\n",
      "Score after 6 subsets of training data: 0.9896883964538574\n",
      "\n",
      "Data Shape for 7 Cluster(s):\n",
      "X_train shape: (20219, 28, 28)\n",
      "y_train shape: (20219,)\n",
      "X_val shape: (5055, 28, 28)\n",
      "y_val shape: (5055,)\n",
      "\n",
      "Score after 7 subsets of training data: 0.9907022714614868\n",
      "\n",
      "Data Shape for 8 Cluster(s):\n",
      "X_train shape: (18736, 28, 28)\n",
      "y_train shape: (18736,)\n",
      "X_val shape: (4685, 28, 28)\n",
      "y_val shape: (4685,)\n",
      "\n",
      "Score after 8 subsets of training data: 0.9933831095695496\n",
      "\n",
      "Data Shape for 9 Cluster(s):\n",
      "X_train shape: (22124, 28, 28)\n",
      "y_train shape: (22124,)\n",
      "X_val shape: (5531, 28, 28)\n",
      "y_val shape: (5531,)\n",
      "\n",
      "Score after 9 subsets of training data: 0.9858976602554321\n",
      "\n",
      "Data Shape for 10 Cluster(s):\n",
      "X_train shape: (22274, 28, 28)\n",
      "y_train shape: (22274,)\n",
      "X_val shape: (5569, 28, 28)\n",
      "y_val shape: (5569,)\n",
      "\n",
      "Score after 10 subsets of training data: 0.9935356378555298\n",
      "\n",
      "\n",
      "Score after fine tuning: [0.031997330486774445, 0.9938947558403015]\n",
      "\n"
     ]
    }
   ],
   "source": [
    "def cluster_scheduling():\n",
    "    X, y = cluster[0][0], cluster[0][1] #get first cluster's data\n",
    "    historical_scores = []\n",
    "\n",
    "    for i in range(10):\n",
    "        # resplit data into train and validation\n",
    "        X_train, X_val, y_train, y_val = train_test_split(X, y, test_size=0.2, random_state=42)\n",
    "        print(f'Data Shape for {i+1} Cluster(s):\\nX_train shape: {X_train.shape}'), print(f'y_train shape: {y_train.shape}'), print(f'X_val shape: {X_val.shape}'), print(f'y_val shape: {y_val.shape}\\n')\n",
    "\n",
    "        model.fit(X_train, y_train, epochs=1000, validation_data=(X_val, y_val), callbacks=[EarlyStopping(patience=10)], verbose=0) #train model on current subset of data\n",
    "        if i != 9: \n",
    "            X = np.concatenate((X_train, cluster[i+1][0]), axis=0)#if not last cluster, concatenate next cluster's data to current data\n",
    "            y = np.concatenate((y_train, cluster[i+1][1]), axis=0)\n",
    "    \n",
    "        historical_scores.append(model.evaluate(X_val, y_val, verbose=0)[1]) #append current score to historical scores\n",
    "        print(f'Score after {i+1} subsets of training data: {historical_scores[i]}\\n') # evaluate on current subset of validation data\n",
    "\n",
    "    #fine tuning with lower lr with all clusters \n",
    "    model.compile(optimizer=Adam(learning_rate=0.00001), loss='sparse_categorical_crossentropy', metrics=['accuracy']) #recompile with lower lr\n",
    "    model.fit(X_train, y_train, epochs=1000, validation_data=(X_val, y_val), callbacks=[EarlyStopping(patience=10)], verbose=0)\n",
    "    print(f'\\nScore after fine tuning: {model.evaluate(X_val, y_val, verbose=0)}\\n')\n",
    "    return model, historical_scores\n",
    "\n",
    "model, historical_scores = cluster_scheduling()"
   ]
  },
  {
   "cell_type": "markdown",
   "metadata": {},
   "source": [
    "Here is a plot of the scores the model achieved at each cluster of trianing."
   ]
  },
  {
   "cell_type": "code",
   "execution_count": 59,
   "metadata": {},
   "outputs": [
    {
     "data": {
      "image/png": "[encoded data removed]",
      "text/plain": [
       "<Figure size 640x480 with 1 Axes>"
      ]
     },
     "metadata": {},
     "output_type": "display_data"
    }
   ],
   "source": [
    "#create plot for historical scores\n",
    "plt.plot(historical_scores)\n",
    "plt.xlabel('Number of Clusters')\n",
    "plt.ylabel('Accuracy')\n",
    "plt.title('Accuracy vs Number of Clusters')\n",
    "plt.show()"
   ]
  },
  {
   "cell_type": "markdown",
   "metadata": {},
   "source": [
    "# Comparision to Traditional Training"
   ]
  },
  {
   "cell_type": "markdown",
   "metadata": {},
   "source": [
    "Below is comparision to the same model trained without complexity scheduling. It achieved only 94.73% accuracy as opposed to 99.39% with complexity scheduling.\n",
    "\n",
    "Overall, this method is highly effective for increasing accuracy of a model without changing the models architecutre. I will be adding this method to my toolbox for future projects. Soon, I will combine this method with the model architecture scheduling that was experimented in the previous notebook in this directory."
   ]
  },
  {
   "cell_type": "code",
   "execution_count": 41,
   "metadata": {},
   "outputs": [
    {
     "name": "stdout",
     "output_type": "stream",
     "text": [
      "313/313 - 0s - loss: 0.3421 - accuracy: 0.9473 - 271ms/epoch - 866us/step\n",
      "Score on all data: [0.3420996069908142, 0.9473000168800354]\n",
      "\n"
     ]
    }
   ],
   "source": [
    "(x_train, y_train), (x_test, y_test) = mnist.load_data()\n",
    "\n",
    "#buld simple mnist clf\n",
    "model = Sequential([\n",
    "    Flatten(input_shape=(28, 28)),\n",
    "    Dense(128, activation='relu'),\n",
    "    Dense(10, activation='softmax')\n",
    "])\n",
    "\n",
    "model.compile(optimizer='adam', loss='sparse_categorical_crossentropy', metrics=['accuracy'])\n",
    "model.fit(x_train, y_train, epochs=1000, validation_data=(x_test, y_test), callbacks=[EarlyStopping(patience=10)], verbose=0)\n",
    "\n",
    "print(f'Score on all data: {model.evaluate(x_test, y_test, verbose=2)}\\n')"
   ]
  }
 ],
 "metadata": {
  "kernelspec": {
   "display_name": "Python 3 (ipykernel)",
   "language": "python",
   "name": "python3"
  },
  "language_info": {
   "codemirror_mode": {
    "name": "ipython",
    "version": 3
   },
   "file_extension": ".py",
   "mimetype": "text/x-python",
   "name": "python",
   "nbconvert_exporter": "python",
   "pygments_lexer": "ipython3",
   "version": "3.11.1"
  }
 },
 "nbformat": 4,
 "nbformat_minor": 2
}
