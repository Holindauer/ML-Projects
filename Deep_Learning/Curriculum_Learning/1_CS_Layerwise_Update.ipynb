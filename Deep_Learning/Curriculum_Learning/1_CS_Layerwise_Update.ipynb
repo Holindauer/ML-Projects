{
 "cells": [
  {
   "attachments": {},
   "cell_type": "markdown",
   "id": "492f76da",
   "metadata": {},
   "source": [
    "# Complexity Scheduling -- Initial Experimentation with Concept"
   ]
  },
  {
   "attachments": {},
   "cell_type": "markdown",
   "id": "00d36965",
   "metadata": {},
   "source": [
    "The idea behind this project is method of pacing neural net training such that the model doesn't learn the entire task at once, but instead learns it in steps.\n",
    "\n",
    "This idea is predicated on the assumption that all human learning is facilitated by exposure to ideas which are to be learned. And that after a certain threshold of exposure has been attained, understanding is unavoidable.\n",
    "\n",
    "The idea stems from an observation about when children first learn about swear words and other innapropriate topics for kids. Parents protect their kids from hearing about inappropriate concepts when they're young, but they can't entirely protect them from this. There is some amount of exposure, albeit small. However little exposures over time add up. And by the time that exposure leads to an understanding, the kid is now an adult and it's no longer inappropriate for them. \n",
    "\n",
    "This idea for model training is based on this. It would be like learning rate scheduling but for the architecture of the model itself. A sort of transfer learning where the model starts with a fraction of the weights it will have and then after the model plateaus, its architecture is updated to have more weights. This could be thought of as expanding the amount of appropriate concepts for the model by increasing its learning capacity to learn once it plateaus. \n",
    "\n",
    "Another idea in this same vein is to apply this iterative complexity increase concept, but with the data the model is being trained on. This could be accomplished in a variety fo ways, but one that initially comes to mind is by training the model on a single kmeans cluster of the entire dataset and then once the model plateus, concatenate a new cluster into the dataset and continue training. This would be like exposing the model to a new concept after it has already learned the previous one. I will attempt this idea in a future notebook. \n",
    "\n",
    "Another idea is to further the depth of an autoencoder in with this same complexity scheduling process.\n",
    "\n",
    "This notebook contains a basic implementation of the model architecture complexity scheduling idea using the keras functional API. Further notebooks will expand on these ideas."
   ]
  },
  {
   "cell_type": "code",
   "execution_count": 82,
   "id": "c987862a",
   "metadata": {},
   "outputs": [],
   "source": [
    "from tensorflow import keras\n",
    "from keras.models import Sequential\n",
    "from keras.layers import Dense, Dropout, Flatten, BatchNormalization\n",
    "from keras import Input, Model\n",
    "from sklearn.model_selection import train_test_split\n",
    "from sklearn.datasets import load_iris\n",
    "from keras.callbacks import EarlyStopping\n",
    "from keras.datasets import mnist\n",
    "import tensorflow as tf\n",
    "from tensorflow.keras.optimizers import Adam\n",
    "import matplotlib.pyplot as plt"
   ]
  },
  {
   "attachments": {},
   "cell_type": "markdown",
   "id": "395f6244",
   "metadata": {},
   "source": [
    "The type of model we will train for this demonstration is an mnist classifier."
   ]
  },
  {
   "cell_type": "code",
   "execution_count": 51,
   "id": "6409040a",
   "metadata": {},
   "outputs": [
    {
     "name": "stdout",
     "output_type": "stream",
     "text": [
      "X_train shape: (60000, 28, 28)\n",
      "X_test shape: (10000, 28, 28)\n",
      "Y_train shape: (60000,)\n",
      "Y_test shape: (10000,)\n"
     ]
    }
   ],
   "source": [
    "#load the mnist dataset from keras\n",
    "(x_train, y_train), (x_test, y_test) = mnist.load_data()\n",
    "x_train, x_test = x_train/255.0, x_test/255.0 #normalize the data\n",
    "\n",
    "print(f'X_train shape: {x_train.shape}')\n",
    "print(f'X_test shape: {x_test.shape}')\n",
    "print(f'Y_train shape: {y_train.shape}')\n",
    "print(f'Y_test shape: {y_test.shape}')"
   ]
  },
  {
   "attachments": {},
   "cell_type": "markdown",
   "id": "434d052b",
   "metadata": {},
   "source": [
    "The functions below schedules a layer by layer transfer learning process using the keras functional API. An inital model is created with one layer, trained, then all but the output layer is used for transfer learning of a new model with one additional layer before output. This model complexity update is repeated for a secified number of layers.\n",
    "\n",
    "define_model() is the backbone of the complexity_scheduling() function directly under it. It is used to both create the original model as well as update it by adding each new layer. After it creates, compiles, and returns the new model. The number of neurons in the new layer and the learning rate the model is compiled with is determined by the iter param, which reflects the current iter of a for loop within complexity_scheduling()\n",
    "\n",
    "complexity_scheduling() facilitates model's training and complexity update. This happens within the main for loop of the function. Additionally, performace metrics of each model iter are stored in the trianing_performance dictionary, which was intialized directly above the loop. After the transfer learning has concluded, the final model is recompiled with a lower learning rate for fine tuning."
   ]
  },
  {
   "cell_type": "code",
   "execution_count": 78,
   "id": "98545ce5",
   "metadata": {},
   "outputs": [
    {
     "name": "stdout",
     "output_type": "stream",
     "text": [
      "Learning rate for model with 1 layers: 0.00016666666666666666\n",
      "Score for 1 layers: [0.06281015276908875, 0.9825999736785889] \n",
      "\n",
      "Learning rate for model with 2 layers: 8.333333333333333e-05\n",
      "Score for 2 layers: [0.06437616050243378, 0.9847000241279602] \n",
      "\n",
      "Learning rate for model with 3 layers: 5.555555555555556e-05\n",
      "Score for 3 layers: [0.06180376559495926, 0.9854999780654907] \n",
      "\n",
      "Learning rate for model with 4 layers: 4.1666666666666665e-05\n",
      "Score for 4 layers: [0.07795873284339905, 0.9854000210762024] \n",
      "\n",
      "Learning rate for model with 5 layers: 3.3333333333333335e-05\n",
      "Score for 5 layers: [0.07988271862268448, 0.986299991607666] \n",
      "\n",
      "Score after fine tuning: [0.0798228308558464, 0.986299991607666]\n"
     ]
    }
   ],
   "source": [
    "def define_model(old_model=None, iter=0, nodes=350):\n",
    "\n",
    "    if old_model is not None:  #if there is a previous model, get it and use it\n",
    "        inputs = old_model.input\n",
    "        x =  old_model.layers[-2].output #get the second to last layer \n",
    "        x = Dense(int(nodes/iter), activation='relu')(x) #add add one additional layer with less nodes than prior\n",
    "        x = BatchNormalization()(x)\n",
    "        outputs = Dense(10, activation='softmax')(x) #redefine the output\n",
    "    else: #otherwise, create input layer\n",
    "        inputs = Input(shape=(28, 28))\n",
    "        x = Flatten()(inputs)\n",
    "        x = Dense(nodes, activation='relu')(x) #create original model \n",
    "        x = Dropout(0.2)(x)\n",
    "        outputs = Dense(10, activation='softmax')(x) \n",
    "\n",
    "    model = Model(inputs=inputs, outputs=outputs) #define model\n",
    "    model.compile(optimizer=Adam(learning_rate=(0.001/(iter*6))), loss='sparse_categorical_crossentropy', metrics=['accuracy'])\n",
    "    print(f'Learning rate for model with {iter} layers: {0.001/(iter*6)}')\n",
    "    return model\n",
    "\n",
    "\n",
    "def complexity_scheduling(epochs=10000, layers_to_train=5): #earlystopping will self regulate epochs\n",
    "    training_performance, model = {}, None #initialize performance history dict and model\n",
    "    \n",
    "    for i in range(layers_to_train):\n",
    "        #create, compile, and train new/next model \n",
    "        iter = i + 1\n",
    "        model = define_model(model, iter)\n",
    "        model.fit(x_train, y_train, epochs=epochs, validation_data=(x_test, y_test),\n",
    "                            verbose=0, callbacks=[EarlyStopping(monitor='val_accuracy', patience=10)])\n",
    "        \n",
    "        training_performance[i] = model.evaluate(x_test, y_test, verbose=0) #save performace to dict\n",
    "        print(f'Score for {i+1} layers: {training_performance[i]} \\n')  \n",
    "\n",
    "    #Recompile final mode to lower learning_rate for fine tuning\n",
    "    model.compile(optimizer=Adam(learning_rate=0.0000001), loss='sparse_categorical_crossentropy', metrics=['accuracy'])\n",
    "    history = model.fit(x_train, y_train, epochs=epochs, validation_data=(x_test, y_test),\n",
    "                            verbose=0, callbacks=[EarlyStopping(monitor='val_accuracy', patience=10)])\n",
    "    \n",
    "    training_performance[layers_to_train] = model.evaluate(x_test, y_test, verbose=0) #get final score\n",
    "    print(f'Score after fine tuning: {training_performance[layers_to_train]}')\n",
    "        \n",
    "    return model, training_performance\n",
    "\n",
    "model, training_performance = complexity_scheduling(layers_to_train=5)"
   ]
  },
  {
   "attachments": {},
   "cell_type": "markdown",
   "id": "44f7390c",
   "metadata": {},
   "source": [
    "The final score of the MNIST classifier trained using complexity scheduling was 98.6299991607666 %\n",
    "\n",
    "Below is the final model architecture as well."
   ]
  },
  {
   "cell_type": "code",
   "execution_count": 79,
   "id": "2d4fcbf7",
   "metadata": {},
   "outputs": [
    {
     "name": "stdout",
     "output_type": "stream",
     "text": [
      "Model: \"model_80\"\n",
      "_________________________________________________________________\n",
      " Layer (type)                Output Shape              Param #   \n",
      "=================================================================\n",
      " input_29 (InputLayer)       [(None, 28, 28)]          0         \n",
      "                                                                 \n",
      " flatten_31 (Flatten)        (None, 784)               0         \n",
      "                                                                 \n",
      " dense_157 (Dense)           (None, 350)               274750    \n",
      "                                                                 \n",
      " dropout_45 (Dropout)        (None, 350)               0         \n",
      "                                                                 \n",
      " dense_159 (Dense)           (None, 175)               61425     \n",
      "                                                                 \n",
      " batch_normalization_25 (Bat  (None, 175)              700       \n",
      " chNormalization)                                                \n",
      "                                                                 \n",
      " dense_161 (Dense)           (None, 116)               20416     \n",
      "                                                                 \n",
      " batch_normalization_26 (Bat  (None, 116)              464       \n",
      " chNormalization)                                                \n",
      "                                                                 \n",
      " dense_163 (Dense)           (None, 87)                10179     \n",
      "                                                                 \n",
      " batch_normalization_27 (Bat  (None, 87)               348       \n",
      " chNormalization)                                                \n",
      "                                                                 \n",
      " dense_165 (Dense)           (None, 70)                6160      \n",
      "                                                                 \n",
      " batch_normalization_28 (Bat  (None, 70)               280       \n",
      " chNormalization)                                                \n",
      "                                                                 \n",
      " dense_166 (Dense)           (None, 10)                710       \n",
      "                                                                 \n",
      "=================================================================\n",
      "Total params: 375,432\n",
      "Trainable params: 374,536\n",
      "Non-trainable params: 896\n",
      "_________________________________________________________________\n"
     ]
    }
   ],
   "source": [
    "model.summary()"
   ]
  },
  {
   "attachments": {},
   "cell_type": "markdown",
   "id": "3bb6d72b",
   "metadata": {},
   "source": [
    "Here is a plot of the model's performance after each layer was added during complexity scheduling."
   ]
  },
  {
   "cell_type": "code",
   "execution_count": 80,
   "id": "b68532be",
   "metadata": {},
   "outputs": [
    {
     "data": {
      "image/png": "[encoded data removed]",
      "text/plain": [
       "<Figure size 1000x500 with 2 Axes>"
      ]
     },
     "metadata": {},
     "output_type": "display_data"
    }
   ],
   "source": [
    "import matplotlib.pyplot as plt\n",
    "\n",
    "def plot_metrics(training_performance):\n",
    "    fig, axes = plt.subplots(nrows=1, ncols=2, figsize=(10, 5))\n",
    "\n",
    "    # Assuming your dictionary structure is {layer_number: [loss, accuracy]}\n",
    "    layers = list(training_performance.keys())\n",
    "    losses = [training_performance[key][0] for key in layers]\n",
    "    accuracies = [training_performance[key][1] for key in layers]\n",
    "\n",
    "    axes[0].plot(layers, losses, marker='o')\n",
    "    axes[0].set_xlabel('Number of Layers')\n",
    "    axes[0].set_ylabel('Loss')\n",
    "    axes[0].set_title('Loss vs. Number of Layers')\n",
    "\n",
    "    axes[1].plot(layers, accuracies, marker='o')\n",
    "    axes[1].set_xlabel('Number of Layers')\n",
    "    axes[1].set_ylabel('Accuracy')\n",
    "    axes[1].set_title('Accuracy vs. Number of Layers')\n",
    "\n",
    "    plt.tight_layout()\n",
    "    plt.show()\n",
    "\n",
    "plot_metrics(training_performance)"
   ]
  },
  {
   "attachments": {},
   "cell_type": "markdown",
   "id": "e2a66d02",
   "metadata": {},
   "source": [
    "For a comparison, I am going to train a model with the same architecture, but not using complexity scheduling."
   ]
  },
  {
   "cell_type": "code",
   "execution_count": 84,
   "id": "0b54dd30",
   "metadata": {},
   "outputs": [
    {
     "name": "stdout",
     "output_type": "stream",
     "text": [
      "Model: \"sequential_4\"\n",
      "_________________________________________________________________\n",
      " Layer (type)                Output Shape              Param #   \n",
      "=================================================================\n",
      " flatten_33 (Flatten)        (None, 784)               0         \n",
      "                                                                 \n",
      " dense_173 (Dense)           (None, 350)               274750    \n",
      "                                                                 \n",
      " dropout_47 (Dropout)        (None, 350)               0         \n",
      "                                                                 \n",
      " dense_174 (Dense)           (None, 175)               61425     \n",
      "                                                                 \n",
      " batch_normalization_33 (Bat  (None, 175)              700       \n",
      " chNormalization)                                                \n",
      "                                                                 \n",
      " dense_175 (Dense)           (None, 116)               20416     \n",
      "                                                                 \n",
      " batch_normalization_34 (Bat  (None, 116)              464       \n",
      " chNormalization)                                                \n",
      "                                                                 \n",
      " dense_176 (Dense)           (None, 87)                10179     \n",
      "                                                                 \n",
      " batch_normalization_35 (Bat  (None, 87)               348       \n",
      " chNormalization)                                                \n",
      "                                                                 \n",
      " dense_177 (Dense)           (None, 70)                6160      \n",
      "                                                                 \n",
      " batch_normalization_36 (Bat  (None, 70)               280       \n",
      " chNormalization)                                                \n",
      "                                                                 \n",
      " dense_178 (Dense)           (None, 10)                710       \n",
      "                                                                 \n",
      "=================================================================\n",
      "Total params: 375,432\n",
      "Trainable params: 374,536\n",
      "Non-trainable params: 896\n",
      "_________________________________________________________________\n"
     ]
    }
   ],
   "source": [
    "model = Sequential([\n",
    "    Input(shape=(28, 28)),\n",
    "    Flatten(),\n",
    "    Dense(350, activation='relu'),\n",
    "    Dropout(0.5),\n",
    "    Dense(175, activation='relu'),\n",
    "    BatchNormalization(),\n",
    "    Dense(116, activation='relu'),\n",
    "    BatchNormalization(),\n",
    "    Dense(87, activation='relu'),\n",
    "    BatchNormalization(),\n",
    "    Dense(70, activation='relu'),\n",
    "    BatchNormalization(),\n",
    "    Dense(10, activation='softmax')\n",
    "])\n",
    "\n",
    "model.compile(optimizer='adam', \n",
    "              loss='sparse_categorical_crossentropy', \n",
    "              metrics=['accuracy'])\n",
    "model.summary()"
   ]
  },
  {
   "cell_type": "code",
   "execution_count": 85,
   "id": "1a105bb4",
   "metadata": {},
   "outputs": [],
   "source": [
    "history = model.fit(x_train, y_train, \n",
    "                    epochs=100000, \n",
    "                    validation_data=(x_test, y_test),\n",
    "                    callbacks=[EarlyStopping(monitor='val_accuracy', patience=10)],\n",
    "                   verbose=0)"
   ]
  },
  {
   "cell_type": "code",
   "execution_count": 86,
   "id": "0eb88023",
   "metadata": {},
   "outputs": [
    {
     "name": "stdout",
     "output_type": "stream",
     "text": [
      "[0.05344443395733833, 0.9850000143051147]\n"
     ]
    }
   ],
   "source": [
    "print(model.evaluate(x_test, y_test, verbose=0))"
   ]
  },
  {
   "attachments": {},
   "cell_type": "markdown",
   "id": "274a9633",
   "metadata": {},
   "source": [
    "The complexity scheduling model outperformed the same model architecture trained normally 0.986299991607666 to 0.9850000143051147 albeit much slower to train. However, by no means does this notebook attempt to maximize performance of this architecture.\n",
    "\n",
    "The main point of this being an initial experimentation with adjusting the complexity of components of the model, whether data or architecture during training. For my next project in this domain, I will experiment with training a model on different subsections of a dataset that contain different properties by virture of supervised learning."
   ]
  }
 ],
 "metadata": {
  "kernelspec": {
   "display_name": "conda_tensorflow2_p310",
   "language": "python",
   "name": "conda_tensorflow2_p310"
  },
  "language_info": {
   "codemirror_mode": {
    "name": "ipython",
    "version": 3
   },
   "file_extension": ".py",
   "mimetype": "text/x-python",
   "name": "python",
   "nbconvert_exporter": "python",
   "pygments_lexer": "ipython3",
   "version": "3.10.10"
  }
 },
 "nbformat": 4,
 "nbformat_minor": 5
}
