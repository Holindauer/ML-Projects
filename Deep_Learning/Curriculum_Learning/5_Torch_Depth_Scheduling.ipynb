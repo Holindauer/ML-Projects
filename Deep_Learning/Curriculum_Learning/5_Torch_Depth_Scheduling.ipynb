{
 "cells": [
  {
   "cell_type": "markdown",
   "metadata": {},
   "source": [
    "# Depth Scheduling -- Translation to PyTorch\n",
    "\n",
    "In this notebook I translate the depth scheduling code in 3_CS_Autoencoder_Depth_Scheduling.ipynb from tensorflow to PyTorch.\n",
    "\n",
    "To quickly recap the idea and inspiration behind this method. The idea is to mimic, in a neural net, the increasing capacity to learn that a growing of a child's brain recieves in development. As the brain grows, so does its potential to hold a useful mapping. \n",
    "\n",
    "This is implemented in a Neural Network by training a small model until it's capacity to fit the data is reach. Then expanding that model by appending new layers to it. Thus increasing the weights of the model while maintaing an understanding of the task developed by the previous layers.\n",
    "\n",
    "In this notebook, this concept is applied to a simple mnist autoencoder."
   ]
  },
  {
   "cell_type": "code",
   "execution_count": 1,
   "metadata": {},
   "outputs": [],
   "source": [
    "from torchvision import datasets, transforms\n",
    "import torch\n",
    "import matplotlib.pyplot as plt\n",
    "import numpy as np\n",
    "import torch.nn as nn\n",
    "import torch.nn.functional as F"
   ]
  },
  {
   "cell_type": "markdown",
   "metadata": {},
   "source": [
    "Load MNIST for Example"
   ]
  },
  {
   "cell_type": "code",
   "execution_count": 28,
   "metadata": {},
   "outputs": [],
   "source": [
    "# define the transform\n",
    "transform = transforms.Compose([\n",
    "    transforms.ToTensor() # convert to tensor -- automatically scales to [0,1]\n",
    "])\n",
    "\n",
    "#get mnist data\n",
    "train_data = datasets.MNIST(root='./data', train=True, download=True, transform=transform)\n",
    "test_data = datasets.MNIST(root='./data', train=False, download=True, transform=transform)\n",
    "\n",
    "#load data\n",
    "train_loader = torch.utils.data.DataLoader(dataset=train_data, batch_size=512, shuffle=True)\n",
    "test_loader = torch.utils.data.DataLoader(dataset=test_data, batch_size=512, shuffle=False)"
   ]
  },
  {
   "cell_type": "markdown",
   "metadata": {},
   "source": [
    "# High Level Overview of the Following Code:\n",
    "The gist of the code that follows is to first define a shallow autoencoder with a specified latent space dimmension. This Autoencoder is trained, then updated. The update involves appending a new layer on top of the encoder output and, inversely, appending a new layer to the begging of the decoder. The new encoder layer outputs a smaller vector than it inputs. The new decoder layer takes this smaller dim vector as input and subsequently grows it back to the initial decoders input size. Then training is repeated. Thus, the autoencoder grows in depth while retaining some of its previous understanding. This is repeated until the presecified number of layers has been attained.\n",
    "\n",
    "It might be fair to say this algorithm is a version of gridsearch for the number of layers. With the added plus of training time being reduced by taking adavantage of the computation that already went into training the previous search."
   ]
  },
  {
   "cell_type": "markdown",
   "metadata": {},
   "source": [
    "# How the Autoencoder is Constructed\n",
    "The following class definitions are used to construct the AE. Both initially, and during a depth update. The structure is relatively simple. \n",
    "\n",
    "If an old model has been passed to the encoder/decoder, append the new layer in the appropriate location. If the old_model is None, construct the initial model's input. \n",
    "\n",
    "The latent dimmension, latent, remains constant in this implementation. \n",
    "\n",
    "The autoencoder class then combines the encoder and the decoder in its forward pass"
   ]
  },
  {
   "cell_type": "code",
   "execution_count": 29,
   "metadata": {},
   "outputs": [],
   "source": [
    "class encoder(nn.Module):\n",
    "    def __init__(self, old_model, latent=100):\n",
    "        super(encoder, self).__init__()\n",
    "        self.flatten_input = nn.Flatten() \n",
    "        self.to_latent = nn.Linear(28*28, latent) #recieves 28*28 dim vector, outputs neuron dim vector\n",
    "        self.hidden_layer = nn.Linear(latent, latent) \n",
    "        self.old_model = old_model\n",
    "\n",
    "    def forward(self, x):\n",
    "        if self.old_model is not None: # expand upon old model\n",
    "            x = self.old_model(x)\n",
    "        elif self.old_model is None: \n",
    "            x = self.flatten_input(x) #create initial layer to flatten digit\n",
    "            x = self.to_latent(x) # and downscale to the latent space\n",
    "    \n",
    "        x = F.relu(self.hidden_layer(x))  #add new hidden with relu\n",
    "        return x\n",
    "\n",
    "class decoder(nn.Module):\n",
    "    def __init__(self, old_model, latent=100):\n",
    "        super(decoder, self).__init__()\n",
    "        self.hidden_layer = nn.Linear(latent, latent) #recieves neuron dim vector, outputs neuron dim vector\n",
    "        self.output_layer = nn.Linear(latent, 28*28) \n",
    "        self.unflatten_output = nn.Unflatten(1, (1, 28, 28))\n",
    "\n",
    "        self.old_model = old_model # if old model is not none, then we expand upon it\n",
    "\n",
    "    def forward(self, x):\n",
    "        x = F.relu(self.hidden_layer(x))  #add new hidden layer with relu\n",
    "\n",
    "        if self.old_model is not None: \n",
    "            x = self.old_model(x) # pass through old model\n",
    "\n",
    "        elif self.old_model is None: # if no old model, then we define the model output\n",
    "            x = self.output_layer(x) # --> og num pix\n",
    "            x = self.unflatten_output(x) # --> original shape\n",
    "\n",
    "        return x\n",
    "    \n",
    "class autoencoder(nn.Module):\n",
    "    def __init__(self, encoder, decoder):\n",
    "        super(autoencoder, self).__init__()\n",
    "        self.encoder = encoder\n",
    "        self.decoder = decoder\n",
    "\n",
    "    def forward(self, x): #combine encoder and decoder\n",
    "        x = self.encoder(x)\n",
    "        x = self.decoder(x)\n",
    "\n",
    "        x = torch.sigmoid(x)  #sigmoid activation to get values between 0 and 1 for BCE\n",
    "        return x"
   ]
  },
  {
   "cell_type": "markdown",
   "metadata": {},
   "source": [
    "This function defines the training loop for each iteration of the model. It uses early stopping regularization to determine the number of epochs. The final training and test loss are returned in a list after being returned from the evaluate() function. evaluate() is defined next."
   ]
  },
  {
   "cell_type": "code",
   "execution_count": 30,
   "metadata": {},
   "outputs": [],
   "source": [
    "def train_model(model, optimizer, criterion, epochs=100, early_stopping_patience=100, device=\"cpu\"):\n",
    "    #initialize early stopping params\n",
    "    patience, counter, min_loss = early_stopping_patience, 0, np.Inf\n",
    "    \n",
    "    #Training Loop\n",
    "    for epoch in range(epochs):\n",
    "        for i, data in enumerate(train_loader): #get batch \n",
    "            inputs = data[0].to(device) #get images from (feature, target) send --> device\n",
    "            output = model(inputs) #forward pass\n",
    "            loss = criterion(output, inputs) #calculate loss\n",
    "\n",
    "            optimizer.zero_grad()  # Zero the gradients\n",
    "            loss.backward()  # Backpropagate gradients\n",
    "            optimizer.step()  # Update the weights\n",
    "\n",
    "        loss = evaluate(model, criterion, device, do_train_loss=False) #returns list [test_loss, None]\n",
    "        if epoch % 10 == 0:\n",
    "            print(f'Epoch: {epoch} \\tTest Loss: {loss[0]:.8f}')\n",
    "        test_loss = loss[0]\n",
    "         \n",
    "        #early stopping\n",
    "        if test_loss < min_loss: #if test loss decreases\n",
    "            min_loss = test_loss #update min loss\n",
    "            counter = 0 #reset if loss decreases\n",
    "        else:\n",
    "            counter += 1\n",
    "            if counter >= patience: #stop if loss doesn't decrease for patience epochs\n",
    "                print(f'\\nEarly stopping at epoch: {epoch} \\nFinal Loss on test set was {test_loss:.8f}\\n')\n",
    "                break\n",
    "        \n",
    "\n",
    "    final_loss = evaluate(model, criterion, device, do_train_loss=True) #returns list [test_loss, train_loss]\n",
    "    print(f'Test Loss: {final_loss[0]:.4f} \\nTrain Loss: {final_loss[1]:.4f}')  \n",
    "    \n",
    "    return model, final_loss\n"
   ]
  },
  {
   "cell_type": "markdown",
   "metadata": {},
   "source": [
    "update_model() is used to strip out the encoder and decoder from the old_model. If the model is empty, a None object will be passed to the encoder decoder classes which will handel the creation of a new model. If the old model exists, the encoder and decoder are passed to the encoder decoder classes which will add new layers to each model at the innermost part of the network. The new autoencoder is then returned."
   ]
  },
  {
   "cell_type": "code",
   "execution_count": 31,
   "metadata": {},
   "outputs": [],
   "source": [
    "def update_model(latent, old_model):\n",
    "    '''\n",
    "    update model with new encoder and decoder\n",
    "    if old_model is None, initialize new model\n",
    "    '''\n",
    "    \n",
    "    #seperate encoder and decoder frpm old model\n",
    "    if old_model is not None:\n",
    "        old_encoder = old_model.encoder\n",
    "        old_decoder = old_model.decoder\n",
    "    elif old_model is None:\n",
    "        old_encoder, old_decoder = None, None #initialize to none if no old model\n",
    "\n",
    "    encoder_instance = encoder(old_encoder, latent=latent)\n",
    "    decoder_instance = decoder(old_decoder, latent=latent)\n",
    "    return autoencoder(encoder=encoder_instance, decoder=decoder_instance)\n"
   ]
  },
  {
   "cell_type": "markdown",
   "metadata": {},
   "source": [
    "evaluate() is used to evaluate the model on the test and train set. If do_train_loss is False, it only evals the test set. This is to save compute during training. If set to true, it evals on both sets and returns both.\n"
   ]
  },
  {
   "cell_type": "code",
   "execution_count": 32,
   "metadata": {},
   "outputs": [],
   "source": [
    "def evaluate(model, criterion, device, do_train_loss=False):\n",
    "    '''\n",
    "    compute loss on test and train sets\n",
    "    '''\n",
    "    model.eval() #turn off gradient calculation\n",
    "\n",
    "    with torch.no_grad(): #turn off gradient calculation\n",
    "\n",
    "        #calculate loss on test set\n",
    "        loss_sum = 0 #initialize loss\n",
    "        for data in test_loader: #calculate loss for each batch\n",
    "            data[0].to(device) #send images to device\n",
    "            outputs = model(data[0])\n",
    "            loss_sum += criterion(outputs, data[0]) #add loss to loss sum\n",
    "        test_loss = loss_sum / len(test_loader) #average loss over all batches\n",
    "\n",
    "        if do_train_loss:\n",
    "            #calculate loss on the train set\n",
    "            loss_sum = 0 #initialize loss\n",
    "            for data in train_loader: #calculate loss for each batch\n",
    "                data[0].to(device)\n",
    "                images, labels = data\n",
    "                outputs = model(images)\n",
    "                loss_sum += criterion(outputs, data[0]) #add loss to loss sum\n",
    "            train_loss = loss_sum / len(train_loader) #average loss over all batches\n",
    "\n",
    "    model.train() #turn gradient calculation back on\n",
    "\n",
    "\n",
    "    if do_train_loss: #return train loss if specified\n",
    "        output = [test_loss.item(), train_loss.item()]\n",
    "    else:\n",
    "        output = [test_loss.item(), None] #return test loss only but keep same shape as output with None\n",
    "\n",
    "    return output"
   ]
  },
  {
   "cell_type": "markdown",
   "metadata": {},
   "source": [
    "This is the master function that controls this entire operation. \n",
    "\n",
    "First, a history dictionary is defined to track performance after each training session. \n",
    "\n",
    "Then a for loop begins that will run for the num final layers specified for the autoencoder. A model is created using update_model() and is then trained using train_model(). The loss is computed, stored, and logged to terminal. After the loop repeats, the model is updated with update_model(), this time being fed the previous model as argument for training.\n",
    "\n",
    "The model, history are returned."
   ]
  },
  {
   "cell_type": "code",
   "execution_count": 33,
   "metadata": {},
   "outputs": [],
   "source": [
    "def depth_scheduling(layers_to_train, latent, criterion, device=\"cpu\"):\n",
    "    print(f'Beginning training for {layers_to_train} layers \\n{latent} dimmension latent space \\nUsing {device} \\n')\n",
    "\n",
    "    history = {} #initialize performance history dict and model\n",
    "\n",
    "    for i in range(layers_to_train): #for specified num layers\n",
    "\n",
    "        if i == 0: #if first layer create initial model with old_model=None\n",
    "            print(f'Creating initial model with {i+1} depth and {latent} dim latent space')\n",
    "            model = update_model(latent=latent, old_model=None)\n",
    "            optimizer = torch.optim.Adam(model.parameters(), lr=0.001) #initialize optimizer with new parameters\n",
    "        else: #update model\n",
    "            print(f'\\nUpdating model with {i+1} depth and {latent} dim latent space')\n",
    "            model = update_model(latent=latent, old_model=model) #create initial model or update model with new encoder and decoder\n",
    "            optimizer = torch.optim.Adam(model.parameters(), lr=0.001) #initialize optimizer with new parameters\n",
    "\n",
    "        model, loss = train_model(model, optimizer, criterion) #train\n",
    "\n",
    "        #evaluate model\n",
    "        history[i] = loss\n",
    "        \n",
    "\n",
    "    return history, model"
   ]
  },
  {
   "cell_type": "code",
   "execution_count": 34,
   "metadata": {},
   "outputs": [],
   "source": [
    "def check_cuda():\n",
    "    if torch.cuda.is_available():\n",
    "        device = torch.device(\"cuda:0\")\n",
    "        print(\"Running on the GPU\")\n",
    "    else:\n",
    "        device = torch.device(\"cpu\")\n",
    "        print(\"Running on the CPU\")\n",
    "    return device"
   ]
  },
  {
   "cell_type": "markdown",
   "metadata": {},
   "source": [
    "# Running the Depth Scheduling Algorithm"
   ]
  },
  {
   "cell_type": "code",
   "execution_count": 35,
   "metadata": {},
   "outputs": [
    {
     "name": "stdout",
     "output_type": "stream",
     "text": [
      "Running on the GPU\n",
      "Beginning training for 5 layers \n",
      "10 dimmension latent space \n",
      "Using cuda:0 \n",
      "\n",
      "Creating initial model with 1 depth and 10 dim latent space\n",
      "Epoch: 0 \tTest Loss: 0.08207840\n",
      "Epoch: 10 \tTest Loss: 0.04322938\n",
      "Epoch: 20 \tTest Loss: 0.03585443\n",
      "Epoch: 30 \tTest Loss: 0.03485011\n",
      "Epoch: 40 \tTest Loss: 0.03437874\n",
      "Epoch: 50 \tTest Loss: 0.03407008\n",
      "Epoch: 60 \tTest Loss: 0.03383536\n",
      "Epoch: 70 \tTest Loss: 0.03358372\n",
      "Epoch: 80 \tTest Loss: 0.03333703\n",
      "Epoch: 90 \tTest Loss: 0.03308956\n",
      "Test Loss: 0.0329 \n",
      "Train Loss: 0.0333\n",
      "\n",
      "Updating model with 2 depth and 10 dim latent space\n",
      "Epoch: 0 \tTest Loss: 0.05188194\n",
      "Epoch: 10 \tTest Loss: 0.03498093\n",
      "Epoch: 20 \tTest Loss: 0.03455301\n",
      "Epoch: 30 \tTest Loss: 0.03430707\n",
      "Epoch: 40 \tTest Loss: 0.03419394\n",
      "Epoch: 50 \tTest Loss: 0.03401396\n",
      "Epoch: 60 \tTest Loss: 0.03385875\n",
      "Epoch: 70 \tTest Loss: 0.03239619\n",
      "Epoch: 80 \tTest Loss: 0.03181084\n",
      "Epoch: 90 \tTest Loss: 0.03167626\n",
      "Test Loss: 0.0316 \n",
      "Train Loss: 0.0319\n",
      "\n",
      "Updating model with 3 depth and 10 dim latent space\n",
      "Epoch: 0 \tTest Loss: 0.05222137\n",
      "Epoch: 10 \tTest Loss: 0.03760502\n",
      "Epoch: 20 \tTest Loss: 0.03459442\n",
      "Epoch: 30 \tTest Loss: 0.03395992\n",
      "Epoch: 40 \tTest Loss: 0.03367063\n",
      "Epoch: 50 \tTest Loss: 0.03360523\n",
      "Epoch: 60 \tTest Loss: 0.03355210\n",
      "Epoch: 70 \tTest Loss: 0.03350050\n",
      "Epoch: 80 \tTest Loss: 0.03340106\n",
      "Epoch: 90 \tTest Loss: 0.03339271\n",
      "Test Loss: 0.0333 \n",
      "Train Loss: 0.0337\n",
      "\n",
      "Updating model with 4 depth and 10 dim latent space\n",
      "Epoch: 0 \tTest Loss: 0.06070216\n",
      "Epoch: 10 \tTest Loss: 0.04230600\n",
      "Epoch: 20 \tTest Loss: 0.04114964\n",
      "Epoch: 30 \tTest Loss: 0.04069195\n",
      "Epoch: 40 \tTest Loss: 0.04027930\n",
      "Epoch: 50 \tTest Loss: 0.04012351\n",
      "Epoch: 60 \tTest Loss: 0.03991111\n",
      "Epoch: 70 \tTest Loss: 0.03966951\n",
      "Epoch: 80 \tTest Loss: 0.03943693\n",
      "Epoch: 90 \tTest Loss: 0.03925706\n",
      "Test Loss: 0.0391 \n",
      "Train Loss: 0.0392\n",
      "\n",
      "Updating model with 5 depth and 10 dim latent space\n",
      "Epoch: 0 \tTest Loss: 0.06042247\n",
      "Epoch: 10 \tTest Loss: 0.04931762\n",
      "Epoch: 20 \tTest Loss: 0.04525570\n",
      "Epoch: 30 \tTest Loss: 0.04427022\n",
      "Epoch: 40 \tTest Loss: 0.04355408\n",
      "Epoch: 50 \tTest Loss: 0.04323799\n",
      "Epoch: 60 \tTest Loss: 0.04283417\n",
      "Epoch: 70 \tTest Loss: 0.04273372\n",
      "Epoch: 80 \tTest Loss: 0.04248053\n",
      "Epoch: 90 \tTest Loss: 0.04228758\n",
      "Test Loss: 0.0422 \n",
      "Train Loss: 0.0425\n"
     ]
    }
   ],
   "source": [
    "criterion = nn.MSELoss() \n",
    "\n",
    "device = check_cuda()\n",
    "\n",
    "history, model = depth_scheduling(layers_to_train=5, latent=10, criterion=criterion , device=device)"
   ]
  },
  {
   "cell_type": "code",
   "execution_count": 37,
   "metadata": {},
   "outputs": [
    {
     "data": {
      "image/png": "[encoded data removed]",
      "text/plain": [
       "<Figure size 1000x500 with 1 Axes>"
      ]
     },
     "metadata": {},
     "output_type": "display_data"
    }
   ],
   "source": [
    "#get historical loss's of autoencoder with dif depths\n",
    "test_losses = [values[0] for values in history.values()]\n",
    "train_losses = [values[1] for values in history.values()]\n",
    "\n",
    "plt.figure(figsize=(10, 5))\n",
    "\n",
    "# Plot train loss\n",
    "plt.plot(range(len(train_losses)), train_losses, label='Train Loss')\n",
    "\n",
    "# Plot test loss\n",
    "plt.plot(range(len(test_losses)), test_losses, label='Test Loss')\n",
    "\n",
    "plt.title('Train and Test Loss over Epochs')\n",
    "plt.xlabel('Additional Layers Added')\n",
    "plt.ylabel('Loss')\n",
    "plt.legend()\n",
    "\n",
    "plt.show()\n"
   ]
  },
  {
   "cell_type": "markdown",
   "metadata": {},
   "source": [
    "The plot above illustrates a potential benefit of this method. It acts as a sort of grid search of number of layers while taking advantage of the compute that already went into the other versions.\n",
    "\n",
    "The plot shows that for 100 epochs, the model with only one added layer performed the best. This is the model that performed best on the underfitting/overfitting tradeoff. At 2+ added layers, the performance begins to decline. The test loss also begins to climb up from its position under the train loss. However, this doesn't take into account any regularization techniques that might be used to offset performance decline with additional layers."
   ]
  },
  {
   "cell_type": "markdown",
   "metadata": {},
   "source": [
    "Below is a printout of the final model"
   ]
  },
  {
   "cell_type": "code",
   "execution_count": 38,
   "metadata": {},
   "outputs": [
    {
     "name": "stdout",
     "output_type": "stream",
     "text": [
      "autoencoder(\n",
      "  (encoder): encoder(\n",
      "    (flatten_input): Flatten(start_dim=1, end_dim=-1)\n",
      "    (to_latent): Linear(in_features=784, out_features=10, bias=True)\n",
      "    (hidden_layer): Linear(in_features=10, out_features=10, bias=True)\n",
      "    (old_model): encoder(\n",
      "      (flatten_input): Flatten(start_dim=1, end_dim=-1)\n",
      "      (to_latent): Linear(in_features=784, out_features=10, bias=True)\n",
      "      (hidden_layer): Linear(in_features=10, out_features=10, bias=True)\n",
      "      (old_model): encoder(\n",
      "        (flatten_input): Flatten(start_dim=1, end_dim=-1)\n",
      "        (to_latent): Linear(in_features=784, out_features=10, bias=True)\n",
      "        (hidden_layer): Linear(in_features=10, out_features=10, bias=True)\n",
      "        (old_model): encoder(\n",
      "          (flatten_input): Flatten(start_dim=1, end_dim=-1)\n",
      "          (to_latent): Linear(in_features=784, out_features=10, bias=True)\n",
      "          (hidden_layer): Linear(in_features=10, out_features=10, bias=True)\n",
      "          (old_model): encoder(\n",
      "            (flatten_input): Flatten(start_dim=1, end_dim=-1)\n",
      "            (to_latent): Linear(in_features=784, out_features=10, bias=True)\n",
      "            (hidden_layer): Linear(in_features=10, out_features=10, bias=True)\n",
      "          )\n",
      "        )\n",
      "      )\n",
      "    )\n",
      "  )\n",
      "  (decoder): decoder(\n",
      "    (hidden_layer): Linear(in_features=10, out_features=10, bias=True)\n",
      "    (output_layer): Linear(in_features=10, out_features=784, bias=True)\n",
      "    (unflatten_output): Unflatten(dim=1, unflattened_size=(1, 28, 28))\n",
      "    (old_model): decoder(\n",
      "      (hidden_layer): Linear(in_features=10, out_features=10, bias=True)\n",
      "      (output_layer): Linear(in_features=10, out_features=784, bias=True)\n",
      "      (unflatten_output): Unflatten(dim=1, unflattened_size=(1, 28, 28))\n",
      "      (old_model): decoder(\n",
      "        (hidden_layer): Linear(in_features=10, out_features=10, bias=True)\n",
      "        (output_layer): Linear(in_features=10, out_features=784, bias=True)\n",
      "        (unflatten_output): Unflatten(dim=1, unflattened_size=(1, 28, 28))\n",
      "        (old_model): decoder(\n",
      "          (hidden_layer): Linear(in_features=10, out_features=10, bias=True)\n",
      "          (output_layer): Linear(in_features=10, out_features=784, bias=True)\n",
      "          (unflatten_output): Unflatten(dim=1, unflattened_size=(1, 28, 28))\n",
      "          (old_model): decoder(\n",
      "            (hidden_layer): Linear(in_features=10, out_features=10, bias=True)\n",
      "            (output_layer): Linear(in_features=10, out_features=784, bias=True)\n",
      "            (unflatten_output): Unflatten(dim=1, unflattened_size=(1, 28, 28))\n",
      "          )\n",
      "        )\n",
      "      )\n",
      "    )\n",
      "  )\n",
      ")\n"
     ]
    }
   ],
   "source": [
    "print(model)"
   ]
  }
 ],
 "metadata": {
  "kernelspec": {
   "display_name": "Python 3",
   "language": "python",
   "name": "python3"
  },
  "language_info": {
   "codemirror_mode": {
    "name": "ipython",
    "version": 3
   },
   "file_extension": ".py",
   "mimetype": "text/x-python",
   "name": "python",
   "nbconvert_exporter": "python",
   "pygments_lexer": "ipython3",
   "version": "3.11.4"
  }
 },
 "nbformat": 4,
 "nbformat_minor": 2
}
