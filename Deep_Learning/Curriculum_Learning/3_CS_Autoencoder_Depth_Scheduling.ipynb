{
 "cells": [
  {
   "cell_type": "markdown",
   "id": "acd57192",
   "metadata": {},
   "source": [
    "# Complexity Scheduling -- Autoencoder Depth Scheduling"
   ]
  },
  {
   "cell_type": "markdown",
   "id": "3fa05857",
   "metadata": {},
   "source": [
    "This notebook contains an exploration of model architecture complexity scheduling for autoencoder training.\n",
    "\n",
    "The idea is to train a very shallow autoencoder such that is learns a simple large latent representation of an image. Then, after training of this initial model has concluded, a new layer is appened to the output of the encoder and to the input of the decoder. Thus deepening the network, with the possibility of reducing the size of the compression as well. This is a form of transfer learning where the shallower model is meant to reduce the difficulty of training the deeper version of it by being a part of it.\n",
    "\n",
    "In this notebook, I develop an implementation of Depth Scheduling for an mnist autoencoder. An important thing to note here is that the mnist is a relatively simple dataset to build an autencoder on. The point of this notebook is not to seek a more optimized mnist autoencoder. Rather, it is to design the software requirements for accomplishing this task on more complex image datasets. \n",
    "\n",
    "One of the reasons for choosing Autoencoders specifically for this project is to further explore autoencoder pretraining of more complex GANs."
   ]
  },
  {
   "cell_type": "code",
   "execution_count": 2,
   "id": "7a21ef03",
   "metadata": {},
   "outputs": [
    {
     "name": "stderr",
     "output_type": "stream",
     "text": [
      "Matplotlib is building the font cache; this may take a moment.\n"
     ]
    }
   ],
   "source": [
    "from tensorflow import keras\n",
    "from keras.layers import Input, Flatten, Dense, BatchNormalization, Dropout, Reshape\n",
    "from keras.models import Sequential, Model\n",
    "from keras.optimizers import Adam\n",
    "from keras.callbacks import EarlyStopping\n",
    "import numpy as np\n",
    "import matplotlib.pyplot as plt"
   ]
  },
  {
   "cell_type": "markdown",
   "id": "402b32d2",
   "metadata": {},
   "source": [
    "Here we load in and normalize the mnist dataset. We are not using the labels because in an encoder the labels take the form of the features that were input into the model. This is because an autoencoder is meant to output its input after compressing it."
   ]
  },
  {
   "cell_type": "code",
   "execution_count": 3,
   "id": "3e441912",
   "metadata": {},
   "outputs": [
    {
     "name": "stdout",
     "output_type": "stream",
     "text": [
      "Downloading data from https://storage.googleapis.com/tensorflow/tf-keras-datasets/mnist.npz\n",
      "11490434/11490434 [==============================] - 0s 0us/step\n",
      "Training data shape: (60000, 28, 28)\n",
      "Testing data shape: (10000, 28, 28)\n"
     ]
    }
   ],
   "source": [
    "(x_train, _), (x_test, _) = keras.datasets.mnist.load_data()  #because we are training an autoencoder, we do not need labels. training data will be our label\n",
    "x_train, x_test = x_train / 255, x_test / 255  #Normmalize the data \n",
    "\n",
    "print(\"Training data shape:\", x_train.shape)\n",
    "print(\"Testing data shape:\", x_test.shape) "
   ]
  },
  {
   "cell_type": "markdown",
   "id": "b0c99845",
   "metadata": {},
   "source": [
    "# Necessary Functions"
   ]
  },
  {
   "cell_type": "markdown",
   "id": "fce994ca",
   "metadata": {},
   "source": [
    "Below we define five funtions that facilitate the autoencoder depth scheduling training method. They are as follows:\n",
    "\n",
    "initial_model()  \n",
    "deepen_autoencoder()  \n",
    "define_model()  \n",
    "complexity_scheduling()  \n",
    "plot_pred()  \n",
    " \n",
    "initial_model() defines the initial shallow autoencoder. it contains the parameter initial_nodes=200 which specifies the number of neurons of which the model compresses the flattened mnist digit into. Both the encoder and the decoder are defined seperately using the Keras Functional API and then used to define the autoencoder before being returned. This is important because it means that the encoder and the decoder are both being treated as single layers. This means that we can retrieve and expand upon them in the deepen_autoencoder() function.\n",
    "\n",
    "deepen_autoencoder() is fed the old_model, of which it seperates out the encoder and the decoder. The encoder recieves a new layer directly following its output. The decoder recieves a new layer directly preceeding its input. This results in a new model that is two layers deeper, with all the same weights as before, except for the new randomly initialized weights in the layers bordering the encoder and the decoder. This means the adjusted task for the net is to figure out how to create a mapping from the old encoder output through the new decoder output and new encoder input such that the old encoder input is the same as it would be in the old model. The previous sentence is extremely important for understanding the purpose of training the model this way. It reduces the task of training a deep neural net to just finding this two layer mapping (assuming the initial model is also successful). Currently, the added layers are of the same number of neurons as the initial model's Dense layers, this can be changed easily depending on the use case.\n",
    "\n",
    "define_model() acts as a logic gate within the complexity_scheduling() function to determine whether to call initial_model() or deepen_autoencoder() depending on if old_model is passed in as an argument. The model that results from either of these two function calls is then compiled, its stats are printed, and returned along with the adjusted learning rate. A further note on the lr given this specific implementation is that lr scheduling is easy to throw in on top of depth scheduling. In this case, the lr is reduced by a factor of 10x after training has concluded for each depth version. \n",
    "\n",
    "complexity_scheduling() is the mastermind behind implementing the prior three functions in proper order. the layers_to_train param specifies the number of depth additions to add to the encoder/decoder. Training of each model iteration is carried out within the main for loop of the function. First, define_model() is called, which returns a model and the current lr. Then that model is trained. Following training, the performance of the model is saved to the training_performance dict. This is repeated for each iteration of the for loop. Once the for loop has concluded, the model is recompiled with a lower learning rate and fine tuned with another round of training. The final model along with the training_history is returned. \n",
    "\n",
    "plot_pred() plots the input output mapping of the auto_encoder."
   ]
  },
  {
   "cell_type": "code",
   "execution_count": 4,
   "id": "bf158563",
   "metadata": {},
   "outputs": [],
   "source": [
    "def initial_model(initial_nodes=200):\n",
    "    #define encoder\n",
    "    encoder_input = Input(shape=(28, 28)) \n",
    "    x = Flatten()(encoder_input)\n",
    "    x = Dropout(0.15)(x)\n",
    "    encoder_output = Dense(initial_nodes, activation=\"selu\")(x)\n",
    "    encoder = Model(encoder_input, encoder_output, name=\"encoder\")\n",
    "\n",
    "    # Define decoder\n",
    "    decoder_input = Input(shape=(initial_nodes,)) \n",
    "    x = Dense(initial_nodes, activation=\"selu\")(decoder_input)\n",
    "    x = Dropout(0.15)(x)\n",
    "    x = Dense(28 * 28, activation=\"sigmoid\")(x)\n",
    "    decoder_output = Reshape([28, 28])(x)\n",
    "    decoder = Model(decoder_input, decoder_output, name=\"decoder\")\n",
    "\n",
    "    # Define autoencoder = encoder + decoder\n",
    "    autoencoder_input = Input(shape=(28, 28))\n",
    "    encoded = encoder(autoencoder_input)\n",
    "    decoded = decoder(encoded)\n",
    "    return Model(autoencoder_input, decoded) #return autoencoder"
   ]
  },
  {
   "cell_type": "markdown",
   "id": "f6f9d43c",
   "metadata": {},
   "source": [
    "deepen_autoencoder() is fed the old_model, of which it seperates out the encoder and the decoder. The encoder recieves a new layer directly following its output. The decoder recieves a new layer directly preceeding its input. This results in a new model that is two layers deeper, with all the same weights as before, except for the new randomly initialized weights in the layers bordering the encoder and the decoder. This means the adjusted task for the net is to figure out how to create a mapping from the old encoder output through the new decoder output and new encoder input such that the old encoder input is the same as it would be in the old model. The previous sentence is extremely important for understanding the purpose of training the model this way. It reduces the task of training a deep neural net to just finding this two layer mapping (assuming the initial model is also successful). Currently, the added layers are of the same number of neurons as the initial model's Dense layers, this can be changed easily depending on the use case."
   ]
  },
  {
   "cell_type": "code",
   "execution_count": 5,
   "id": "e0d65211",
   "metadata": {},
   "outputs": [],
   "source": [
    "def deepen_autoencoder(old_model, initial_nodes=200):\n",
    "    # add depth to the end of the encoder\n",
    "    encoder = old_model.get_layer(\"encoder\") #retrieve encoder from old model\n",
    "    encoder_input = encoder.input  #set input of new encoder to be the same as old encoder\n",
    "    x = encoder.output #get old encoder output\n",
    "    x = Dense(initial_nodes, activation=\"selu\")(x) #feed output of old enocder into new layer\n",
    "    new_encoder = Model(encoder_input, x, name=\"encoder\") #redefine model\n",
    "\n",
    "    # add depth to the beginning of the decoder\n",
    "    decoder = old_model.get_layer(\"decoder\") #retrieve decoder from old model\n",
    "    new_encoder_input = Input(shape=(initial_nodes,)) #specify new input for new decoder\n",
    "    x = Dense(initial_nodes, activation=\"selu\")(new_encoder_input) #specifiy new first layer for new decoder\n",
    "    decoder_output = decoder(x) #feed output of added initial layer to old decoder\n",
    "    new_decoder = Model(new_encoder_input, decoder_output, name=\"decoder\") #redefine model\n",
    "\n",
    "    # Define autoencoder = encoder + decoder\n",
    "    autoencoder_input = Input(shape=(28, 28))\n",
    "    encoded = new_encoder(autoencoder_input) #feed new encoder output tensor to new decoder\n",
    "    decoded = new_decoder(encoded)\n",
    "    return Model(autoencoder_input, decoded) #return deepened autoencoder after defining model\n",
    "    "
   ]
  },
  {
   "cell_type": "markdown",
   "id": "d3099246",
   "metadata": {},
   "source": [
    "define_model() acts as a logic gate within the complexity_scheduling() function to determine whether to call initial_model() or deepen_autoencoder() depending on if old_model is passed in as an argument. The model that results from either of these two function calls is then compiled, its stats are printed, and returned along with the adjusted learning rate. A further note on the lr given this specific implementation is that lr scheduling is easy to throw in on top of depth scheduling. In this case, the lr is reduced by a factor of 10x after training has concluded for each depth version. \n"
   ]
  },
  {
   "cell_type": "code",
   "execution_count": 6,
   "id": "eb6466f0",
   "metadata": {},
   "outputs": [],
   "source": [
    "def define_model(old_model=None, iter=0, initial_nodes=200, lr=0.001):\n",
    "\n",
    "    lr = float(lr / 10) #low lr by 10x each iteration\n",
    "\n",
    "    if old_model is not None:  #if there is a previous model, get it and deepen it\n",
    "        auto_encoder = deepen_autoencoder(old_model)\n",
    "    else: #otherwise, create initial model\n",
    "        auto_encoder = initial_model(initial_nodes=initial_nodes)\n",
    "\n",
    "    auto_encoder.compile(optimizer=Adam(learning_rate=(lr)), loss='mean_squared_error') #compile with MSE (pixel pred is regression)\n",
    "    print(f'Learning rate for model with {iter} added depth: {lr}')\n",
    "\n",
    "    return auto_encoder, lr"
   ]
  },
  {
   "cell_type": "markdown",
   "id": "d716f733",
   "metadata": {},
   "source": [
    "complexity_scheduling() is the mastermind behind implementing the prior three functions in proper order. the layers_to_train param specifies the number of depth additions to add to the encoder/decoder. Training of each model iteration is carried out within the main for loop of the function. First, define_model() is called, which returns a model and the current lr. Then that model is trained. Following training, the performance of the model is saved to the training_performance dict. This is repeated for each iteration of the for loop. Once the for loop has concluded, the model is recompiled with a lower learning rate and fine tuned with another round of training. The final model along with the training_history is returned. "
   ]
  },
  {
   "cell_type": "code",
   "execution_count": 24,
   "id": "6ae8fca9",
   "metadata": {},
   "outputs": [],
   "source": [
    "def complexity_scheduling(epochs=10000, layers_to_train=5, lr=0.001): #earlystopping will self regulate epochs\n",
    "    training_performance, model = {}, None #initialize performance history dict and model\n",
    "\n",
    "    for i in range(layers_to_train):\n",
    "        #create, compile, and train new/next model \n",
    "        iter = i + 1\n",
    "\n",
    "        model, lr = define_model(model, iter, lr=lr) #define original model / deepen existing model and collect current lr\n",
    "        \n",
    "        model.fit(x_train, x_train, epochs=epochs, validation_data=(x_test, x_test),\n",
    "                            verbose=0, callbacks=[EarlyStopping(monitor='val_loss', patience=5)])\n",
    "\n",
    "        training_performance[i] = model.evaluate(x_test, x_test, verbose=0) #save performace to dict\n",
    "        print(f'Score for {i+1} added depth: {training_performance[i]} \\n')  \n",
    "        \n",
    "    #Recompile final mode to lower learning_rate for fine tuning\n",
    "    model.compile(optimizer=Adam(learning_rate=0.0000001), loss='mean_squared_error')\n",
    "    model.fit(x_train, x_train, epochs=epochs, validation_data=(x_test, x_test),\n",
    "                            verbose=0, callbacks=[EarlyStopping(monitor='val_loss', patience=10)])\n",
    "    \n",
    "    training_performance[layers_to_train] = model.evaluate(x_test, x_test, verbose=0) #get final score\n",
    "    print(f'Score after fine tuning: {training_performance[layers_to_train]}')\n",
    "        \n",
    "    return model, training_performance"
   ]
  },
  {
   "cell_type": "markdown",
   "id": "adf8ee97",
   "metadata": {},
   "source": [
    "plot_pred() plots the input output mapping of the auto_encoder."
   ]
  },
  {
   "cell_type": "code",
   "execution_count": 19,
   "id": "45e6be9e",
   "metadata": {},
   "outputs": [],
   "source": [
    "def plot_pred(auto_encoder):\n",
    "    pred = auto_encoder.predict(x_test[0].reshape(1, 28, 28)) #predict on first test image\n",
    "\n",
    "    #plot real against decoded \n",
    "    plt.subplot(1, 2, 1)\n",
    "    plt.imshow(x_test[0], cmap='gray')\n",
    "    plt.title('Real')\n",
    "    plt.subplot(1, 2, 2)\n",
    "    plt.imshow(pred.reshape(28, 28), cmap='gray')\n",
    "    plt.title('Decoded')\n",
    "    plt.show()"
   ]
  },
  {
   "cell_type": "markdown",
   "id": "21c69146",
   "metadata": {},
   "source": [
    "# 1 Layer Added"
   ]
  },
  {
   "cell_type": "markdown",
   "id": "281382b1",
   "metadata": {},
   "source": [
    "Below are some tests of calling complexity_scheduling() with different arguments passed into the layers_to_train parameter. \n",
    "\n",
    "Something to note is that the MSE actually slightly worsened by following this process. I suspect this has to do with the mnist dataset not needing an extremely deep encoder decoder network to accomplish good results in the first place. The increase in MSE is most likely a small amount of oferfitting that has accumulated amoung the layers. However, it is important to recognize that the overfitting is particularly small when you consider just how deep the model is. This method is essentially to build and autoencoder that maps the output of an encoder to the input of decoder. It's possible that the autoencoder could reach a very large depth while not sacrificing much performance given enough time and compute. "
   ]
  },
  {
   "cell_type": "code",
   "execution_count": 25,
   "id": "5af236e4",
   "metadata": {},
   "outputs": [
    {
     "name": "stdout",
     "output_type": "stream",
     "text": [
      "Learning rate for model with 1 added depth: 0.0001\n",
      "Score for 1 added depth: 0.0030036333482712507 \n",
      "\n",
      "Score after fine tuning: 0.002908264519646764\n"
     ]
    }
   ],
   "source": [
    "auto_encoder, training_performance = complexity_scheduling(layers_to_train=1)"
   ]
  },
  {
   "cell_type": "code",
   "execution_count": 26,
   "id": "27de5866",
   "metadata": {},
   "outputs": [
    {
     "name": "stdout",
     "output_type": "stream",
     "text": [
      "1/1 [==============================] - 0s 60ms/step\n"
     ]
    },
    {
     "data": {
      "image/png": "[encoded data removed]",
      "text/plain": [
       "<Figure size 640x480 with 2 Axes>"
      ]
     },
     "metadata": {},
     "output_type": "display_data"
    },
    {
     "name": "stdout",
     "output_type": "stream",
     "text": [
      "Model: \"model_4\"\n",
      "_________________________________________________________________\n",
      " Layer (type)                Output Shape              Param #   \n",
      "=================================================================\n",
      " input_16 (InputLayer)       [(None, 28, 28)]          0         \n",
      "                                                                 \n",
      " encoder (Functional)        (None, 200)               157000    \n",
      "                                                                 \n",
      " decoder (Functional)        (None, 28, 28)            197784    \n",
      "                                                                 \n",
      "=================================================================\n",
      "Total params: 354,784\n",
      "Trainable params: 354,784\n",
      "Non-trainable params: 0\n",
      "_________________________________________________________________\n"
     ]
    }
   ],
   "source": [
    "plot_pred(auto_encoder)\n",
    "auto_encoder.summary()"
   ]
  },
  {
   "cell_type": "markdown",
   "id": "5792888f",
   "metadata": {},
   "source": [
    "# 2 Layers Added"
   ]
  },
  {
   "cell_type": "code",
   "execution_count": 27,
   "id": "1411e5e5",
   "metadata": {},
   "outputs": [
    {
     "name": "stdout",
     "output_type": "stream",
     "text": [
      "Learning rate for model with 1 added depth: 0.0001\n",
      "Score for 1 added depth: 0.003134261816740036 \n",
      "\n",
      "Learning rate for model with 2 added depth: 1e-05\n",
      "Score for 2 added depth: 0.003211931325495243 \n",
      "\n",
      "Score after fine tuning: 0.0031799909193068743\n"
     ]
    }
   ],
   "source": [
    "auto_encoder, training_performance = complexity_scheduling(layers_to_train=2)"
   ]
  },
  {
   "cell_type": "code",
   "execution_count": 29,
   "id": "c836207b",
   "metadata": {},
   "outputs": [
    {
     "name": "stdout",
     "output_type": "stream",
     "text": [
      "1/1 [==============================] - 0s 73ms/step\n"
     ]
    },
    {
     "data": {
      "image/png": "[encoded data removed]",
      "text/plain": [
       "<Figure size 640x480 with 2 Axes>"
      ]
     },
     "metadata": {},
     "output_type": "display_data"
    },
    {
     "name": "stdout",
     "output_type": "stream",
     "text": [
      "Model: \"model_6\"\n",
      "_________________________________________________________________\n",
      " Layer (type)                Output Shape              Param #   \n",
      "=================================================================\n",
      " input_21 (InputLayer)       [(None, 28, 28)]          0         \n",
      "                                                                 \n",
      " encoder (Functional)        (None, 200)               197200    \n",
      "                                                                 \n",
      " decoder (Functional)        (None, 28, 28)            237984    \n",
      "                                                                 \n",
      "=================================================================\n",
      "Total params: 435,184\n",
      "Trainable params: 435,184\n",
      "Non-trainable params: 0\n",
      "_________________________________________________________________\n"
     ]
    }
   ],
   "source": [
    "plot_pred(auto_encoder)\n",
    "auto_encoder.summary()"
   ]
  },
  {
   "cell_type": "markdown",
   "id": "8f002dfd",
   "metadata": {},
   "source": [
    "# 3 Layers Added"
   ]
  },
  {
   "cell_type": "code",
   "execution_count": 30,
   "id": "0d1ac514",
   "metadata": {},
   "outputs": [
    {
     "name": "stdout",
     "output_type": "stream",
     "text": [
      "Learning rate for model with 1 added depth: 0.0001\n",
      "Score for 1 added depth: 0.003053981112316251 \n",
      "\n",
      "Learning rate for model with 2 added depth: 1e-05\n",
      "Score for 2 added depth: 0.0032669859938323498 \n",
      "\n",
      "Learning rate for model with 3 added depth: 1.0000000000000002e-06\n",
      "Score for 3 added depth: 0.0037397011183202267 \n",
      "\n",
      "Score after fine tuning: 0.0037330531049519777\n"
     ]
    }
   ],
   "source": [
    "auto_encoder, training_performance = complexity_scheduling(layers_to_train=3)"
   ]
  },
  {
   "cell_type": "code",
   "execution_count": 32,
   "id": "b23fad61",
   "metadata": {},
   "outputs": [
    {
     "name": "stdout",
     "output_type": "stream",
     "text": [
      "1/1 [==============================] - 0s 83ms/step\n"
     ]
    },
    {
     "data": {
      "image/png": "[encoded data removed]",
      "text/plain": [
       "<Figure size 640x480 with 2 Axes>"
      ]
     },
     "metadata": {},
     "output_type": "display_data"
    },
    {
     "name": "stdout",
     "output_type": "stream",
     "text": [
      "Model: \"model_9\"\n",
      "_________________________________________________________________\n",
      " Layer (type)                Output Shape              Param #   \n",
      "=================================================================\n",
      " input_28 (InputLayer)       [(None, 28, 28)]          0         \n",
      "                                                                 \n",
      " encoder (Functional)        (None, 200)               237400    \n",
      "                                                                 \n",
      " decoder (Functional)        (None, 28, 28)            278184    \n",
      "                                                                 \n",
      "=================================================================\n",
      "Total params: 515,584\n",
      "Trainable params: 515,584\n",
      "Non-trainable params: 0\n",
      "_________________________________________________________________\n"
     ]
    }
   ],
   "source": [
    "plot_pred(auto_encoder)\n",
    "auto_encoder.summary()"
   ]
  }
 ],
 "metadata": {
  "kernelspec": {
   "display_name": "conda_tensorflow2_p310",
   "language": "python",
   "name": "conda_tensorflow2_p310"
  },
  "language_info": {
   "codemirror_mode": {
    "name": "ipython",
    "version": 3
   },
   "file_extension": ".py",
   "mimetype": "text/x-python",
   "name": "python",
   "nbconvert_exporter": "python",
   "pygments_lexer": "ipython3",
   "version": "3.10.10"
  }
 },
 "nbformat": 4,
 "nbformat_minor": 5
}
