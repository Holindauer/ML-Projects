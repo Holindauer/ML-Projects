{
 "cells": [
  {
   "attachments": {},
   "cell_type": "markdown",
   "id": "0e50efdf",
   "metadata": {},
   "source": [
    "# MNIST Classifier using KNN"
   ]
  },
  {
   "attachments": {},
   "cell_type": "markdown",
   "id": "229e416a",
   "metadata": {},
   "source": [
    "This is an assignment from chapter 3 of the book \"Hands-On Machine Learning with Scikit-Learn and TensorFlow\" by Aurelien Geron. The assignment is to use GridSearchCV to find the best hyperparameters for a KNN classifier that achieve above 97% accuracy on the MNIST dataset. Then to augment the data to improve that accuracy further."
   ]
  },
  {
   "attachments": {},
   "cell_type": "markdown",
   "id": "4a37bc85",
   "metadata": {},
   "source": [
    "Here we load in the MNIST dataset"
   ]
  },
  {
   "cell_type": "code",
   "execution_count": null,
   "id": "c520b936",
   "metadata": {},
   "outputs": [],
   "source": [
    "import pandas as pd \n",
    "from sklearn.datasets import fetch_openml\n",
    "mnist = fetch_openml('mnist_784', version=1)"
   ]
  },
  {
   "attachments": {},
   "cell_type": "markdown",
   "id": "6445fd41",
   "metadata": {},
   "source": [
    "Here we split the data into training and test sets"
   ]
  },
  {
   "cell_type": "code",
   "execution_count": 3,
   "id": "af3c1f9c",
   "metadata": {},
   "outputs": [
    {
     "name": "stdout",
     "output_type": "stream",
     "text": [
      "X_train shape:  (56000, 784)\n",
      "y_train shape:  (56000,)\n",
      "X_test shape:  (14000, 784)\n",
      "y_test shape:  (14000,)\n"
     ]
    }
   ],
   "source": [
    "from sklearn.model_selection import train_test_split\n",
    "\n",
    "X = mnist['data']\n",
    "y = mnist['target']\n",
    "\n",
    "X_train, X_test, y_train, y_test = train_test_split(X, y, test_size=0.20, random_state=42)\n",
    "\n",
    "print(\"X_train shape: \", X_train.shape)\n",
    "print(\"y_train shape: \", y_train.shape)\n",
    "print(\"X_test shape: \", X_test.shape)\n",
    "print(\"y_test shape: \", y_test.shape)"
   ]
  },
  {
   "attachments": {},
   "cell_type": "markdown",
   "id": "8719f33a",
   "metadata": {},
   "source": [
    "We then train a KNN classifier on the training data using grid searccv to find the best hyperparameters.\n",
    "\n",
    "K Nearest Neighbors Classifier clf (KNN) is an instance based machine learning algorithm for classifcation. It works to classify by memorizing the entire training set and comparing the example that it is trying to classify to the instances closest to it. The amount of most similar instances it compares is determined by the hyperparameter k. Hence the name. This is diffferent than model based learning algorithms which extract a model that is able to predict without the use of data."
   ]
  },
  {
   "cell_type": "code",
   "execution_count": 4,
   "id": "653ff73a",
   "metadata": {},
   "outputs": [
    {
     "name": "stdout",
     "output_type": "stream",
     "text": [
      "Fitting 5 folds for each of 6 candidates, totalling 30 fits\n",
      "[CV 1/5] END ....n_neighbors=3, weights=uniform;, score=0.969 total time=   7.3s\n",
      "[CV 2/5] END ....n_neighbors=3, weights=uniform;, score=0.969 total time=   8.9s\n",
      "[CV 3/5] END ....n_neighbors=3, weights=uniform;, score=0.972 total time=  10.0s\n",
      "[CV 4/5] END ....n_neighbors=3, weights=uniform;, score=0.971 total time=   9.6s\n",
      "[CV 5/5] END ....n_neighbors=3, weights=uniform;, score=0.970 total time=  10.7s\n",
      "[CV 1/5] END ...n_neighbors=3, weights=distance;, score=0.971 total time=  10.8s\n",
      "[CV 2/5] END ...n_neighbors=3, weights=distance;, score=0.970 total time=  10.9s\n",
      "[CV 3/5] END ...n_neighbors=3, weights=distance;, score=0.973 total time=  11.3s\n",
      "[CV 4/5] END ...n_neighbors=3, weights=distance;, score=0.972 total time=  11.3s\n",
      "[CV 5/5] END ...n_neighbors=3, weights=distance;, score=0.971 total time=  11.4s\n",
      "[CV 1/5] END ....n_neighbors=4, weights=uniform;, score=0.967 total time=  10.9s\n",
      "[CV 2/5] END ....n_neighbors=4, weights=uniform;, score=0.970 total time=  10.7s\n",
      "[CV 3/5] END ....n_neighbors=4, weights=uniform;, score=0.969 total time=  12.0s\n",
      "[CV 4/5] END ....n_neighbors=4, weights=uniform;, score=0.969 total time=  11.3s\n",
      "[CV 5/5] END ....n_neighbors=4, weights=uniform;, score=0.967 total time=  11.8s\n",
      "[CV 1/5] END ...n_neighbors=4, weights=distance;, score=0.971 total time=  12.1s\n",
      "[CV 2/5] END ...n_neighbors=4, weights=distance;, score=0.973 total time=  12.3s\n",
      "[CV 3/5] END ...n_neighbors=4, weights=distance;, score=0.973 total time=  12.0s\n",
      "[CV 4/5] END ...n_neighbors=4, weights=distance;, score=0.972 total time=  12.0s\n",
      "[CV 5/5] END ...n_neighbors=4, weights=distance;, score=0.971 total time=  12.9s\n",
      "[CV 1/5] END ....n_neighbors=5, weights=uniform;, score=0.967 total time=  12.5s\n",
      "[CV 2/5] END ....n_neighbors=5, weights=uniform;, score=0.969 total time=  11.6s\n",
      "[CV 3/5] END ....n_neighbors=5, weights=uniform;, score=0.972 total time=  11.4s\n",
      "[CV 4/5] END ....n_neighbors=5, weights=uniform;, score=0.969 total time=  11.6s\n",
      "[CV 5/5] END ....n_neighbors=5, weights=uniform;, score=0.967 total time=  12.5s\n",
      "[CV 1/5] END ...n_neighbors=5, weights=distance;, score=0.968 total time=  12.1s\n",
      "[CV 2/5] END ...n_neighbors=5, weights=distance;, score=0.971 total time=  11.9s\n",
      "[CV 3/5] END ...n_neighbors=5, weights=distance;, score=0.973 total time=  12.1s\n",
      "[CV 4/5] END ...n_neighbors=5, weights=distance;, score=0.970 total time=  11.7s\n",
      "[CV 5/5] END ...n_neighbors=5, weights=distance;, score=0.968 total time=  12.3s\n"
     ]
    },
    {
     "data": {
      "text/html": [
       "<style>#sk-container-id-1 {color: black;background-color: white;}#sk-container-id-1 pre{padding: 0;}#sk-container-id-1 div.sk-toggleable {background-color: white;}#sk-container-id-1 label.sk-toggleable__label {cursor: pointer;display: block;width: 100%;margin-bottom: 0;padding: 0.3em;box-sizing: border-box;text-align: center;}#sk-container-id-1 label.sk-toggleable__label-arrow:before {content: \"▸\";float: left;margin-right: 0.25em;color: #696969;}#sk-container-id-1 label.sk-toggleable__label-arrow:hover:before {color: black;}#sk-container-id-1 div.sk-estimator:hover label.sk-toggleable__label-arrow:before {color: black;}#sk-container-id-1 div.sk-toggleable__content {max-height: 0;max-width: 0;overflow: hidden;text-align: left;background-color: #f0f8ff;}#sk-container-id-1 div.sk-toggleable__content pre {margin: 0.2em;color: black;border-radius: 0.25em;background-color: #f0f8ff;}#sk-container-id-1 input.sk-toggleable__control:checked~div.sk-toggleable__content {max-height: 200px;max-width: 100%;overflow: auto;}#sk-container-id-1 input.sk-toggleable__control:checked~label.sk-toggleable__label-arrow:before {content: \"▾\";}#sk-container-id-1 div.sk-estimator input.sk-toggleable__control:checked~label.sk-toggleable__label {background-color: #d4ebff;}#sk-container-id-1 div.sk-label input.sk-toggleable__control:checked~label.sk-toggleable__label {background-color: #d4ebff;}#sk-container-id-1 input.sk-hidden--visually {border: 0;clip: rect(1px 1px 1px 1px);clip: rect(1px, 1px, 1px, 1px);height: 1px;margin: -1px;overflow: hidden;padding: 0;position: absolute;width: 1px;}#sk-container-id-1 div.sk-estimator {font-family: monospace;background-color: #f0f8ff;border: 1px dotted black;border-radius: 0.25em;box-sizing: border-box;margin-bottom: 0.5em;}#sk-container-id-1 div.sk-estimator:hover {background-color: #d4ebff;}#sk-container-id-1 div.sk-parallel-item::after {content: \"\";width: 100%;border-bottom: 1px solid gray;flex-grow: 1;}#sk-container-id-1 div.sk-label:hover label.sk-toggleable__label {background-color: #d4ebff;}#sk-container-id-1 div.sk-serial::before {content: \"\";position: absolute;border-left: 1px solid gray;box-sizing: border-box;top: 0;bottom: 0;left: 50%;z-index: 0;}#sk-container-id-1 div.sk-serial {display: flex;flex-direction: column;align-items: center;background-color: white;padding-right: 0.2em;padding-left: 0.2em;position: relative;}#sk-container-id-1 div.sk-item {position: relative;z-index: 1;}#sk-container-id-1 div.sk-parallel {display: flex;align-items: stretch;justify-content: center;background-color: white;position: relative;}#sk-container-id-1 div.sk-item::before, #sk-container-id-1 div.sk-parallel-item::before {content: \"\";position: absolute;border-left: 1px solid gray;box-sizing: border-box;top: 0;bottom: 0;left: 50%;z-index: -1;}#sk-container-id-1 div.sk-parallel-item {display: flex;flex-direction: column;z-index: 1;position: relative;background-color: white;}#sk-container-id-1 div.sk-parallel-item:first-child::after {align-self: flex-end;width: 50%;}#sk-container-id-1 div.sk-parallel-item:last-child::after {align-self: flex-start;width: 50%;}#sk-container-id-1 div.sk-parallel-item:only-child::after {width: 0;}#sk-container-id-1 div.sk-dashed-wrapped {border: 1px dashed gray;margin: 0 0.4em 0.5em 0.4em;box-sizing: border-box;padding-bottom: 0.4em;background-color: white;}#sk-container-id-1 div.sk-label label {font-family: monospace;font-weight: bold;display: inline-block;line-height: 1.2em;}#sk-container-id-1 div.sk-label-container {text-align: center;}#sk-container-id-1 div.sk-container {/* jupyter's `normalize.less` sets `[hidden] { display: none; }` but bootstrap.min.css set `[hidden] { display: none !important; }` so we also need the `!important` here to be able to override the default hidden behavior on the sphinx rendered scikit-learn.org. See: https://github.com/scikit-learn/scikit-learn/issues/21755 */display: inline-block !important;position: relative;}#sk-container-id-1 div.sk-text-repr-fallback {display: none;}</style><div id=\"sk-container-id-1\" class=\"sk-top-container\"><div class=\"sk-text-repr-fallback\"><pre>GridSearchCV(cv=5, estimator=KNeighborsClassifier(),\n",
       "             param_grid={&#x27;n_neighbors&#x27;: [3, 4, 5],\n",
       "                         &#x27;weights&#x27;: [&#x27;uniform&#x27;, &#x27;distance&#x27;]},\n",
       "             verbose=3)</pre><b>In a Jupyter environment, please rerun this cell to show the HTML representation or trust the notebook. <br />On GitHub, the HTML representation is unable to render, please try loading this page with nbviewer.org.</b></div><div class=\"sk-container\" hidden><div class=\"sk-item sk-dashed-wrapped\"><div class=\"sk-label-container\"><div class=\"sk-label sk-toggleable\"><input class=\"sk-toggleable__control sk-hidden--visually\" id=\"sk-estimator-id-1\" type=\"checkbox\" ><label for=\"sk-estimator-id-1\" class=\"sk-toggleable__label sk-toggleable__label-arrow\">GridSearchCV</label><div class=\"sk-toggleable__content\"><pre>GridSearchCV(cv=5, estimator=KNeighborsClassifier(),\n",
       "             param_grid={&#x27;n_neighbors&#x27;: [3, 4, 5],\n",
       "                         &#x27;weights&#x27;: [&#x27;uniform&#x27;, &#x27;distance&#x27;]},\n",
       "             verbose=3)</pre></div></div></div><div class=\"sk-parallel\"><div class=\"sk-parallel-item\"><div class=\"sk-item\"><div class=\"sk-label-container\"><div class=\"sk-label sk-toggleable\"><input class=\"sk-toggleable__control sk-hidden--visually\" id=\"sk-estimator-id-2\" type=\"checkbox\" ><label for=\"sk-estimator-id-2\" class=\"sk-toggleable__label sk-toggleable__label-arrow\">estimator: KNeighborsClassifier</label><div class=\"sk-toggleable__content\"><pre>KNeighborsClassifier()</pre></div></div></div><div class=\"sk-serial\"><div class=\"sk-item\"><div class=\"sk-estimator sk-toggleable\"><input class=\"sk-toggleable__control sk-hidden--visually\" id=\"sk-estimator-id-3\" type=\"checkbox\" ><label for=\"sk-estimator-id-3\" class=\"sk-toggleable__label sk-toggleable__label-arrow\">KNeighborsClassifier</label><div class=\"sk-toggleable__content\"><pre>KNeighborsClassifier()</pre></div></div></div></div></div></div></div></div></div></div>"
      ],
      "text/plain": [
       "GridSearchCV(cv=5, estimator=KNeighborsClassifier(),\n",
       "             param_grid={'n_neighbors': [3, 4, 5],\n",
       "                         'weights': ['uniform', 'distance']},\n",
       "             verbose=3)"
      ]
     },
     "execution_count": 4,
     "metadata": {},
     "output_type": "execute_result"
    }
   ],
   "source": [
    "from sklearn.model_selection import GridSearchCV\n",
    "import numpy as np\n",
    "from sklearn.neighbors import KNeighborsClassifier\n",
    "\n",
    "knn = KNeighborsClassifier()\n",
    "\n",
    "\n",
    "\n",
    "param_grid = {\n",
    "    'weights': ['uniform', 'distance'],\n",
    "    'n_neighbors': [3, 4, 5]\n",
    "}\n",
    "\n",
    "grid_search = GridSearchCV(knn, param_grid, cv=5, verbose=3)\n",
    "\n",
    "grid_search.fit(X_train, y_train)"
   ]
  },
  {
   "cell_type": "code",
   "execution_count": 5,
   "id": "594be466",
   "metadata": {},
   "outputs": [
    {
     "name": "stdout",
     "output_type": "stream",
     "text": [
      "Best Parameters:  {'n_neighbors': 4, 'weights': 'distance'}\n",
      "Best Score:  0.9721964285714286\n"
     ]
    },
    {
     "data": {
      "text/plain": [
       "0.9731428571428572"
      ]
     },
     "execution_count": 5,
     "metadata": {},
     "output_type": "execute_result"
    }
   ],
   "source": [
    "from sklearn.metrics import accuracy_score\n",
    "\n",
    "print(\"Best Parameters: \", grid_search.best_params_)\n",
    "print(\"Best Score: \", grid_search.best_score_)\n",
    "\n",
    "y_pred = grid_search.predict(X_test)\n",
    "accuracy_score(y_test, y_pred)"
   ]
  },
  {
   "attachments": {},
   "cell_type": "markdown",
   "id": "1e4cbd3d",
   "metadata": {},
   "source": [
    "97.3% accuracy"
   ]
  },
  {
   "attachments": {},
   "cell_type": "markdown",
   "id": "eb24bde6",
   "metadata": {},
   "source": [
    "# Data Augentation to Further Improve Accuracy"
   ]
  },
  {
   "attachments": {},
   "cell_type": "markdown",
   "id": "38075534",
   "metadata": {},
   "source": [
    "Here we augment the data by shifting the images in each direction by one pixel and adding the new images to the training set. We then train a new KNN classifier on the augmented data."
   ]
  },
  {
   "cell_type": "code",
   "execution_count": null,
   "id": "5a95ad0a",
   "metadata": {},
   "outputs": [],
   "source": [
    "import numpy as np\n",
    "from scipy.ndimage.interpolation import shift\n",
    "\n",
    "\n",
    "def shift_mnist(mnist):\n",
    "    \n",
    "    shifted_down = []\n",
    "    shifted_up = []\n",
    "    shifted_right = []\n",
    "    shifted_left = []\n",
    "    \n",
    "    shifted_to_add = [shifted_down, shifted_up, shifted_right, shifted_left]\n",
    "    \n",
    "    shifts = {\n",
    "        'down':(1, 0),\n",
    "        'up':(-1, 0),\n",
    "        'right':(0, 1),\n",
    "        'left':(0, -1)\n",
    "    }\n",
    "    \n",
    "    for i, direction in enumerate(shifts.values()):\n",
    "\n",
    "        for j in range(len(mnist['data'])):\n",
    "\n",
    "            image_to_shift = mnist['data'].iloc[j]\n",
    "            image_to_shift = image_to_shift.values.reshape(28, 28) #pandas dataframe to numpy array\n",
    "\n",
    "            shifted = shift(image_to_shift, shift=direction, mode='constant', cval=0) \n",
    "            \n",
    "            shifted_to_add[i].append(shifted.ravel()) #Ravel() is used to flattne the image back into input data for model \n",
    "            \n",
    "    return shifted_to_add #Returns a list of 4 list with the augmented data for each direction\n",
    "            \n",
    "        \n",
    "shift_images = shift_mnist(mnist)"
   ]
  },
  {
   "attachments": {},
   "cell_type": "markdown",
   "id": "5f3be950",
   "metadata": {},
   "source": [
    "Here we concatenate out augmented data with the original training data."
   ]
  },
  {
   "cell_type": "code",
   "execution_count": 7,
   "id": "8faf338e",
   "metadata": {},
   "outputs": [],
   "source": [
    "import numpy as np\n",
    "\n",
    "#Concatenate original data and the shifted data\n",
    "original_data = mnist['data']\n",
    "all_shifted_data = np.concatenate(shift_images, axis=0)\n",
    "\n",
    "augmented_data = np.concatenate((original_data, all_shifted_data), axis=0)\n",
    "\n",
    "#Concatenate the original target values and the shifted target values\n",
    "original_targets = mnist['target']\n",
    "all_shifted_targets = np.tile(original_targets, 4) # Repeats the targwets 4 times (matching each direction)\n",
    "\n",
    "augmented_targets = np.concatenate((original_targets, all_shifted_targets), axis=0)\n",
    "\n",
    "#Create a new dictionary with the augmented data and tartgets\n",
    "\n",
    "augmented_data = {\n",
    "    'data': augmented_data,\n",
    "    'target': augmented_targets\n",
    "}"
   ]
  },
  {
   "attachments": {},
   "cell_type": "markdown",
   "id": "a054e9d8",
   "metadata": {},
   "source": [
    "Here we fit the new model with the augmented data"
   ]
  },
  {
   "cell_type": "code",
   "execution_count": 8,
   "id": "9d41d97e",
   "metadata": {},
   "outputs": [
    {
     "data": {
      "text/html": [
       "<style>#sk-container-id-2 {color: black;background-color: white;}#sk-container-id-2 pre{padding: 0;}#sk-container-id-2 div.sk-toggleable {background-color: white;}#sk-container-id-2 label.sk-toggleable__label {cursor: pointer;display: block;width: 100%;margin-bottom: 0;padding: 0.3em;box-sizing: border-box;text-align: center;}#sk-container-id-2 label.sk-toggleable__label-arrow:before {content: \"▸\";float: left;margin-right: 0.25em;color: #696969;}#sk-container-id-2 label.sk-toggleable__label-arrow:hover:before {color: black;}#sk-container-id-2 div.sk-estimator:hover label.sk-toggleable__label-arrow:before {color: black;}#sk-container-id-2 div.sk-toggleable__content {max-height: 0;max-width: 0;overflow: hidden;text-align: left;background-color: #f0f8ff;}#sk-container-id-2 div.sk-toggleable__content pre {margin: 0.2em;color: black;border-radius: 0.25em;background-color: #f0f8ff;}#sk-container-id-2 input.sk-toggleable__control:checked~div.sk-toggleable__content {max-height: 200px;max-width: 100%;overflow: auto;}#sk-container-id-2 input.sk-toggleable__control:checked~label.sk-toggleable__label-arrow:before {content: \"▾\";}#sk-container-id-2 div.sk-estimator input.sk-toggleable__control:checked~label.sk-toggleable__label {background-color: #d4ebff;}#sk-container-id-2 div.sk-label input.sk-toggleable__control:checked~label.sk-toggleable__label {background-color: #d4ebff;}#sk-container-id-2 input.sk-hidden--visually {border: 0;clip: rect(1px 1px 1px 1px);clip: rect(1px, 1px, 1px, 1px);height: 1px;margin: -1px;overflow: hidden;padding: 0;position: absolute;width: 1px;}#sk-container-id-2 div.sk-estimator {font-family: monospace;background-color: #f0f8ff;border: 1px dotted black;border-radius: 0.25em;box-sizing: border-box;margin-bottom: 0.5em;}#sk-container-id-2 div.sk-estimator:hover {background-color: #d4ebff;}#sk-container-id-2 div.sk-parallel-item::after {content: \"\";width: 100%;border-bottom: 1px solid gray;flex-grow: 1;}#sk-container-id-2 div.sk-label:hover label.sk-toggleable__label {background-color: #d4ebff;}#sk-container-id-2 div.sk-serial::before {content: \"\";position: absolute;border-left: 1px solid gray;box-sizing: border-box;top: 0;bottom: 0;left: 50%;z-index: 0;}#sk-container-id-2 div.sk-serial {display: flex;flex-direction: column;align-items: center;background-color: white;padding-right: 0.2em;padding-left: 0.2em;position: relative;}#sk-container-id-2 div.sk-item {position: relative;z-index: 1;}#sk-container-id-2 div.sk-parallel {display: flex;align-items: stretch;justify-content: center;background-color: white;position: relative;}#sk-container-id-2 div.sk-item::before, #sk-container-id-2 div.sk-parallel-item::before {content: \"\";position: absolute;border-left: 1px solid gray;box-sizing: border-box;top: 0;bottom: 0;left: 50%;z-index: -1;}#sk-container-id-2 div.sk-parallel-item {display: flex;flex-direction: column;z-index: 1;position: relative;background-color: white;}#sk-container-id-2 div.sk-parallel-item:first-child::after {align-self: flex-end;width: 50%;}#sk-container-id-2 div.sk-parallel-item:last-child::after {align-self: flex-start;width: 50%;}#sk-container-id-2 div.sk-parallel-item:only-child::after {width: 0;}#sk-container-id-2 div.sk-dashed-wrapped {border: 1px dashed gray;margin: 0 0.4em 0.5em 0.4em;box-sizing: border-box;padding-bottom: 0.4em;background-color: white;}#sk-container-id-2 div.sk-label label {font-family: monospace;font-weight: bold;display: inline-block;line-height: 1.2em;}#sk-container-id-2 div.sk-label-container {text-align: center;}#sk-container-id-2 div.sk-container {/* jupyter's `normalize.less` sets `[hidden] { display: none; }` but bootstrap.min.css set `[hidden] { display: none !important; }` so we also need the `!important` here to be able to override the default hidden behavior on the sphinx rendered scikit-learn.org. See: https://github.com/scikit-learn/scikit-learn/issues/21755 */display: inline-block !important;position: relative;}#sk-container-id-2 div.sk-text-repr-fallback {display: none;}</style><div id=\"sk-container-id-2\" class=\"sk-top-container\"><div class=\"sk-text-repr-fallback\"><pre>KNeighborsClassifier(n_neighbors=4, weights=&#x27;distance&#x27;)</pre><b>In a Jupyter environment, please rerun this cell to show the HTML representation or trust the notebook. <br />On GitHub, the HTML representation is unable to render, please try loading this page with nbviewer.org.</b></div><div class=\"sk-container\" hidden><div class=\"sk-item\"><div class=\"sk-estimator sk-toggleable\"><input class=\"sk-toggleable__control sk-hidden--visually\" id=\"sk-estimator-id-4\" type=\"checkbox\" checked><label for=\"sk-estimator-id-4\" class=\"sk-toggleable__label sk-toggleable__label-arrow\">KNeighborsClassifier</label><div class=\"sk-toggleable__content\"><pre>KNeighborsClassifier(n_neighbors=4, weights=&#x27;distance&#x27;)</pre></div></div></div></div></div>"
      ],
      "text/plain": [
       "KNeighborsClassifier(n_neighbors=4, weights='distance')"
      ]
     },
     "execution_count": 8,
     "metadata": {},
     "output_type": "execute_result"
    }
   ],
   "source": [
    "Aug_X_Train = augmented_data['data']\n",
    "Aug_y_Train = augmented_data['target']\n",
    "\n",
    "#Best Parameters:  {'n_neighbors': 4, 'weights': 'distance'}\n",
    "\n",
    "knn_with_aug = KNeighborsClassifier(n_neighbors=4, weights='distance')\n",
    "\n",
    "knn_with_aug.fit(Aug_X_Train, Aug_y_Train)"
   ]
  },
  {
   "attachments": {},
   "cell_type": "markdown",
   "id": "f32ab5af",
   "metadata": {},
   "source": [
    "Here we evaluate the new model on the test set"
   ]
  },
  {
   "cell_type": "code",
   "execution_count": 9,
   "id": "d7ff6395",
   "metadata": {},
   "outputs": [
    {
     "name": "stderr",
     "output_type": "stream",
     "text": [
      "C:\\Users\\hunte\\AppData\\Local\\Packages\\PythonSoftwareFoundation.Python.3.11_qbz5n2kfra8p0\\LocalCache\\local-packages\\Python311\\site-packages\\sklearn\\base.py:432: UserWarning: X has feature names, but KNeighborsClassifier was fitted without feature names\n",
      "  warnings.warn(\n"
     ]
    },
    {
     "name": "stdout",
     "output_type": "stream",
     "text": [
      "1.0\n"
     ]
    }
   ],
   "source": [
    "from sklearn.metrics import accuracy_score\n",
    "from sklearn.model_selection import cross_val_predict\n",
    "\n",
    "\n",
    "y_aug_predict = knn_with_aug.predict(X_test)\n",
    "\n",
    "acc = accuracy_score(y_test, y_aug_predict)\n",
    "print(acc)\n"
   ]
  },
  {
   "attachments": {},
   "cell_type": "markdown",
   "id": "d5ac20d0",
   "metadata": {},
   "source": [
    "93.2% accuracy -> 100% accuracy\n",
    "\n",
    "The improvement can be attributed to the large increase in data. This aids the KNN classifier because it is an instance based learning algorithm. It memorizes the training data and compares the example it is trying to classify to the instances closest to it. The more data it has to compare to the more accurate it will be."
   ]
  }
 ],
 "metadata": {
  "kernelspec": {
   "display_name": "Python 3 (ipykernel)",
   "language": "python",
   "name": "python3"
  },
  "language_info": {
   "codemirror_mode": {
    "name": "ipython",
    "version": 3
   },
   "file_extension": ".py",
   "mimetype": "text/x-python",
   "name": "python",
   "nbconvert_exporter": "python",
   "pygments_lexer": "ipython3",
   "version": "3.11.4"
  }
 },
 "nbformat": 4,
 "nbformat_minor": 5
}
